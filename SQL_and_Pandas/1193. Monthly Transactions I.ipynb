{
 "cells": [
  {
   "cell_type": "markdown",
   "metadata": {},
   "source": [
    "Table: Transactions\n",
    "\n",
    "+---------------+---------+\n",
    "| Column Name   | Type    |\n",
    "+---------------+---------+\n",
    "| id            | int     |\n",
    "| country       | varchar |\n",
    "| state         | enum    |\n",
    "| amount        | int     |\n",
    "| trans_date    | date    |\n",
    "+---------------+---------+\n",
    "id is the primary key of this table.\n",
    "The table has information about incoming transactions.\n",
    "The state column is an enum of type [\"approved\", \"declined\"].\n",
    " \n",
    "\n",
    "Write an SQL query to find for each month and country, the number of transactions and their total amount, the number of approved transactions and their total amount.\n",
    "\n",
    "Return the result table in any order.\n",
    "\n",
    "The query result format is in the following example.\n",
    "\n",
    " \n",
    "\n",
    "Example 1:\n",
    "\n",
    "Input: \n",
    "Transactions table:\n",
    "+------+---------+----------+--------+------------+\n",
    "| id   | country | state    | amount | trans_date |\n",
    "+------+---------+----------+--------+------------+\n",
    "| 121  | US      | approved | 1000   | 2018-12-18 |\n",
    "| 122  | US      | declined | 2000   | 2018-12-19 |\n",
    "| 123  | US      | approved | 2000   | 2019-01-01 |\n",
    "| 124  | DE      | approved | 2000   | 2019-01-07 |\n",
    "+------+---------+----------+--------+------------+\n",
    "Output: \n",
    "+----------+---------+-------------+----------------+--------------------+-----------------------+\n",
    "| month    | country | trans_count | approved_count | trans_total_amount | approved_total_amount |\n",
    "+----------+---------+-------------+----------------+--------------------+-----------------------+\n",
    "| 2018-12  | US      | 2           | 1              | 3000               | 1000                  |\n",
    "| 2019-01  | US      | 1           | 1              | 2000               | 2000                  |\n",
    "| 2019-01  | DE      | 1           | 1              | 2000               | 2000                  |\n",
    "+----------+---------+-------------+----------------+--------------------+-----------------------+"
   ]
  },
  {
   "cell_type": "markdown",
   "metadata": {},
   "source": [
    "## SQL:"
   ]
  },
  {
   "cell_type": "code",
   "execution_count": null,
   "metadata": {},
   "outputs": [],
   "source": [
    "# Write your MySQL query statement below\n",
    "select\n",
    "    DATE_FORMAT(trans_date, '%Y-%m') AS month, \n",
    "    country, count(*) trans_count, \n",
    "    SUM(case when state='approved' then 1 else 0 end) approved_count,\n",
    "    SUM(amount) trans_total_amount,\n",
    "    SUM(case when state='approved' then amount else 0 end) approved_total_amount\n",
    "from \n",
    "    Transactions t\n",
    "group by \n",
    "    month, country"
   ]
  }
 ],
 "metadata": {
  "language_info": {
   "name": "python"
  }
 },
 "nbformat": 4,
 "nbformat_minor": 2
}
