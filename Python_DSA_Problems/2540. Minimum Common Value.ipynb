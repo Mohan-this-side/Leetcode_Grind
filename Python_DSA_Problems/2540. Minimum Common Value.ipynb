{
 "cells": [
  {
   "cell_type": "markdown",
   "metadata": {},
   "source": [
    "Given two integer arrays nums1 and nums2, sorted in non-decreasing order, return the minimum integer common to both arrays. If there is no common integer amongst nums1 and nums2, return -1.\n",
    "\n",
    "Note that an integer is said to be common to nums1 and nums2 if both arrays have at least one occurrence of that integer.\n",
    "\n",
    " \n",
    "\n",
    "Example 1:\n",
    "\n",
    "Input: nums1 = [1,2,3], nums2 = [2,4]\n",
    "Output: 2\n",
    "Explanation: The smallest element common to both arrays is 2, so we return 2.\n",
    "Example 2:\n",
    "\n",
    "Input: nums1 = [1,2,3,6], nums2 = [2,3,4,5]\n",
    "Output: 2\n",
    "Explanation: There are two common elements in the array 2 and 3 out of which 2 is the smallest, so 2 is returned.\n",
    " \n",
    "\n",
    "Constraints:\n",
    "\n",
    "1 <= nums1.length, nums2.length <= 105\n",
    "1 <= nums1[i], nums2[j] <= 109\n",
    "Both nums1 and nums2 are sorted in non-decreasing order."
   ]
  },
  {
   "cell_type": "code",
   "execution_count": null,
   "metadata": {},
   "outputs": [],
   "source": [
    "class Solution:\n",
    "    def getCommon(self, nums1: List[int], nums2: List[int]) -> int:\n",
    "        \"\"\"\n",
    "            1. set i=0 & j=0\n",
    "            2. we return the value if there are same\n",
    "            3. increment first array pointer if first element of 2nd array is more \n",
    "            4. viseversa\n",
    "            5. return -1 if nothing found\n",
    "        \"\"\"\n",
    "        nothing = -1\n",
    "        i = 0\n",
    "        j = 0\n",
    "\n",
    "        while i<len(nums1) and j<len(nums2):\n",
    "            if (nums1[i]==nums2[j]):\n",
    "                nothing = nums1[i]\n",
    "                return nothing\n",
    "            elif nums1[i]>nums2[j]:\n",
    "                j+=1\n",
    "            elif nums1[i]<nums2[j]:\n",
    "                i+=1\n",
    "        return nothing"
   ]
  }
 ],
 "metadata": {
  "language_info": {
   "name": "python"
  }
 },
 "nbformat": 4,
 "nbformat_minor": 2
}
