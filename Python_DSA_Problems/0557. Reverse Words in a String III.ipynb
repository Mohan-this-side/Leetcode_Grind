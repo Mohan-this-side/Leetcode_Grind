{
 "cells": [
  {
   "cell_type": "markdown",
   "metadata": {},
   "source": [
    "Given a string s, reverse the order of characters in each word within a sentence while still preserving whitespace and initial word order.\n",
    "\n",
    " \n",
    "\n",
    "Example 1:\n",
    "\n",
    "Input: s = \"Let's take LeetCode contest\"\n",
    "Output: \"s'teL ekat edoCteeL tsetnoc\"\n",
    "Example 2:\n",
    "\n",
    "Input: s = \"Mr Ding\"\n",
    "Output: \"rM gniD\"\n",
    " \n",
    "\n",
    "Constraints:\n",
    "\n",
    "1 <= s.length <= 5 * 104\n",
    "s contains printable ASCII characters.\n",
    "s does not contain any leading or trailing spaces.\n",
    "There is at least one word in s.\n",
    "All the words in s are separated by a single space."
   ]
  },
  {
   "cell_type": "code",
   "execution_count": null,
   "metadata": {},
   "outputs": [],
   "source": [
    "class Solution:\n",
    "    def reverseWords(self, s: str) -> str:\n",
    "        s = list(s)\n",
    "        l =0 \n",
    "\n",
    "        for r in range(len(s)):\n",
    "            if s[r]==\" \" or r == len(s)-1 :\n",
    "                temp_l = l \n",
    "                temp_r = r-1\n",
    "                if r == len(s)-1:\n",
    "                    temp_r = r\n",
    "                while temp_l < temp_r:\n",
    "                    s[temp_l],s[temp_r]= s[temp_r],s[temp_l]\n",
    "                    temp_l += 1\n",
    "                    temp_r -= 1\n",
    "\n",
    "                l = r+1\n",
    "\n",
    "        return \"\".join(s)"
   ]
  }
 ],
 "metadata": {
  "language_info": {
   "name": "python"
  }
 },
 "nbformat": 4,
 "nbformat_minor": 2
}
