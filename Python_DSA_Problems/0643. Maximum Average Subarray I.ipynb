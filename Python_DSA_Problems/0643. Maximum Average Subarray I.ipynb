{
 "cells": [
  {
   "cell_type": "markdown",
   "metadata": {},
   "source": [
    "You are given an integer array nums consisting of n elements, and an integer k.\n",
    "\n",
    "Find a contiguous subarray whose length is equal to k that has the maximum average value and return this value. Any answer with a calculation error less than 10-5 will be accepted.\n",
    "\n",
    " \n",
    "\n",
    "Example 1:\n",
    "\n",
    "Input: nums = [1,12,-5,-6,50,3], k = 4\n",
    "Output: 12.75000\n",
    "Explanation: Maximum average is (12 - 5 - 6 + 50) / 4 = 51 / 4 = 12.75\n",
    "Example 2:\n",
    "\n",
    "Input: nums = [5], k = 1\n",
    "Output: 5.00000\n",
    " \n",
    "\n",
    "Constraints:\n",
    "\n",
    "n == nums.length\n",
    "1 <= k <= n <= 105\n",
    "-104 <= nums[i] <= 104"
   ]
  },
  {
   "cell_type": "code",
   "execution_count": null,
   "metadata": {},
   "outputs": [],
   "source": [
    "class Solution:\n",
    "    def findMaxAverage(self, nums: List[int], k: int) -> float:\n",
    "        \"\"\"\n",
    "            max avg value -> return the value\n",
    "            1. make first window\n",
    "            2. curr = avg\n",
    "            3. ans = max(curr,ans)\n",
    "            4. sliding to the end\n",
    "            5. return\n",
    "        \"\"\"\n",
    "        l=0\n",
    "        max_sum=0\n",
    "        ans = 0\n",
    "\n",
    "        for i in range(k):\n",
    "            max_sum += nums[i]\n",
    "        ans = max_sum / k\n",
    "    \n",
    "        for j in range(k,len(nums)):\n",
    "            max_sum += nums[j] - nums[j-k]\n",
    "            new_avg = max_sum / k \n",
    "            ans = max(ans, new_avg)\n",
    "        \n",
    "        return ans"
   ]
  }
 ],
 "metadata": {
  "language_info": {
   "name": "python"
  }
 },
 "nbformat": 4,
 "nbformat_minor": 2
}
