{
 "cells": [
  {
   "cell_type": "code",
   "execution_count": 1,
   "metadata": {},
   "outputs": [
    {
     "name": "stdout",
     "output_type": "stream",
     "text": [
      "Hello\n"
     ]
    }
   ],
   "source": [
    "print(\"Hello\")"
   ]
  },
  {
   "cell_type": "code",
   "execution_count": 6,
   "metadata": {},
   "outputs": [
    {
     "name": "stdout",
     "output_type": "stream",
     "text": [
      "1\n",
      "2\n",
      "3\n",
      "End of call where i = 3\n",
      "End of call where i = 2\n",
      "End of call where i = 1\n"
     ]
    }
   ],
   "source": [
    "def test(a):\n",
    "    if a>3:\n",
    "        return\n",
    "    \n",
    "    print(a)\n",
    "    test(a+1)\n",
    "    print(f\"End of call where i = {a}\")\n",
    "    return \n",
    "    \n",
    "test(1)"
   ]
  },
  {
   "cell_type": "code",
   "execution_count": 44,
   "metadata": {},
   "outputs": [
    {
     "data": {
      "text/plain": [
       "21"
      ]
     },
     "execution_count": 44,
     "metadata": {},
     "output_type": "execute_result"
    }
   ],
   "source": [
    "# 0, 1, 1, 2, 3, 5, 8, 13, 21 advait lodu\n",
    "\n",
    "def febbo(a):\n",
    "    if a<=1:\n",
    "        return a\n",
    "    \n",
    "    list = []\n",
    "    #list.append(one+two)\n",
    "    one=febbo(a-1)\n",
    "    two=febbo(a-2)\n",
    "    return one + two\n",
    "    \n",
    "febbo(8)"
   ]
  },
  {
   "cell_type": "code",
   "execution_count": 43,
   "metadata": {},
   "outputs": [
    {
     "name": "stdout",
     "output_type": "stream",
     "text": [
      "[0, 1, 1, 2, 3, 5, 8, 13, 21, 34, 55, 89, 144, 233, 377, 610, 987, 1597, 2584, 4181, 6765]\n"
     ]
    }
   ],
   "source": [
    "a=20\n",
    "list = []\n",
    "for i in range(a+1):\n",
    "    list.append(febbo(i))\n",
    "\n",
    "print(list)"
   ]
  },
  {
   "cell_type": "code",
   "execution_count": null,
   "metadata": {},
   "outputs": [],
   "source": []
  }
 ],
 "metadata": {
  "kernelspec": {
   "display_name": "Python 3",
   "language": "python",
   "name": "python3"
  },
  "language_info": {
   "codemirror_mode": {
    "name": "ipython",
    "version": 3
   },
   "file_extension": ".py",
   "mimetype": "text/x-python",
   "name": "python",
   "nbconvert_exporter": "python",
   "pygments_lexer": "ipython3",
   "version": "3.10.1"
  }
 },
 "nbformat": 4,
 "nbformat_minor": 2
}
