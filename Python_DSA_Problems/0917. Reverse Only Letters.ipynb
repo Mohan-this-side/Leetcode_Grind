{
 "cells": [
  {
   "cell_type": "markdown",
   "metadata": {},
   "source": [
    "Given a string s, reverse the string according to the following rules:\n",
    "\n",
    "All the characters that are not English letters remain in the same position.\n",
    "All the English letters (lowercase or uppercase) should be reversed.\n",
    "Return s after reversing it.\n",
    "\n",
    " \n",
    "\n",
    "Example 1:\n",
    "\n",
    "Input: s = \"ab-cd\"\n",
    "Output: \"dc-ba\"\n",
    "Example 2:\n",
    "\n",
    "Input: s = \"a-bC-dEf-ghIj\"\n",
    "Output: \"j-Ih-gfE-dCba\"\n",
    "Example 3:\n",
    "\n",
    "Input: s = \"Test1ng-Leet=code-Q!\"\n",
    "Output: \"Qedo1ct-eeLg=ntse-T!\"\n",
    " \n",
    "\n",
    "Constraints:\n",
    "\n",
    "1 <= s.length <= 100\n",
    "s consists of characters with ASCII values in the range [33, 122].\n",
    "s does not contain '\\\"' or '\\\\'."
   ]
  },
  {
   "cell_type": "code",
   "execution_count": null,
   "metadata": {},
   "outputs": [],
   "source": [
    "class Solution:\n",
    "    def reverseOnlyLetters(self, s: str) -> str:\n",
    "        s = list(s)\n",
    "        l = 0\n",
    "        r = len(s)-1\n",
    "\n",
    "        while l < r:\n",
    "\n",
    "            while not s[l].isalpha() and l<r:\n",
    "                l += 1\n",
    "            while not s[r].isalpha() and l<r:\n",
    "                r -= 1\n",
    "\n",
    "            s[l], s[r] = s[r], s[l]\n",
    "            l += 1\n",
    "            r -= 1\n",
    "\n",
    "        return \"\".join(s)"
   ]
  }
 ],
 "metadata": {
  "language_info": {
   "name": "python"
  }
 },
 "nbformat": 4,
 "nbformat_minor": 2
}
