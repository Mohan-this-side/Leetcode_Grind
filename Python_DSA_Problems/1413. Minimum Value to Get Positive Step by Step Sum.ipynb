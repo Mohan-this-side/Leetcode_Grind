{
 "cells": [
  {
   "cell_type": "markdown",
   "metadata": {},
   "source": [
    "Given an array of integers nums, you start with an initial positive value startValue.\n",
    "\n",
    "In each iteration, you calculate the step by step sum of startValue plus elements in nums (from left to right).\n",
    "\n",
    "Return the minimum positive value of startValue such that the step by step sum is never less than 1.\n",
    "\n",
    " \n",
    "\n",
    "Example 1:\n",
    "\n",
    "Input: nums = [-3,2,-3,4,2]\n",
    "Output: 5\n",
    "Explanation: If you choose startValue = 4, in the third iteration your step by step sum is less than 1.\n",
    "step by step sum\n",
    "startValue = 4 | startValue = 5 | nums\n",
    "  (4 -3 ) = 1  | (5 -3 ) = 2    |  -3\n",
    "  (1 +2 ) = 3  | (2 +2 ) = 4    |   2\n",
    "  (3 -3 ) = 0  | (4 -3 ) = 1    |  -3\n",
    "  (0 +4 ) = 4  | (1 +4 ) = 5    |   4\n",
    "  (4 +2 ) = 6  | (5 +2 ) = 7    |   2\n",
    "Example 2:\n",
    "\n",
    "Input: nums = [1,2]\n",
    "Output: 1\n",
    "Explanation: Minimum start value should be positive. \n",
    "Example 3:\n",
    "\n",
    "Input: nums = [1,-2,-3]\n",
    "Output: 5\n",
    " \n",
    "\n",
    "Constraints:\n",
    "\n",
    "1 <= nums.length <= 100\n",
    "-100 <= nums[i] <= 100"
   ]
  },
  {
   "cell_type": "code",
   "execution_count": null,
   "metadata": {},
   "outputs": [],
   "source": [
    "class Solution:\n",
    "    def minStartValue(self, nums: List[int]) -> int:\n",
    "        \"\"\"\n",
    "            1. select a +ve start value\n",
    "            2. do a presum with startvalue\n",
    "            3. the presum is not less than 1 then return that start value\n",
    "        \"\"\"\n",
    "\n",
    "        startv = 1\n",
    "\n",
    "        total = 0\n",
    "\n",
    "        while True:\n",
    "            total = startv\n",
    "            is_valid = True\n",
    "            for i in range(len(nums)):\n",
    "                total += nums[i]\n",
    "                if total < 1:\n",
    "                    is_valid = False\n",
    "                    break\n",
    "\n",
    "            if is_valid:\n",
    "                return startv\n",
    "            else:\n",
    "                startv += 1"
   ]
  }
 ],
 "metadata": {
  "language_info": {
   "name": "python"
  }
 },
 "nbformat": 4,
 "nbformat_minor": 2
}
