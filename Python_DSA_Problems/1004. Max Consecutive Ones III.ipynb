{
 "cells": [
  {
   "cell_type": "markdown",
   "metadata": {},
   "source": [
    "Given a binary array nums and an integer k, return the maximum number of consecutive 1's in the array if you can flip at most k 0's.\n",
    "\n",
    " \n",
    "\n",
    "Example 1:\n",
    "\n",
    "Input: nums = [1,1,1,0,0,0,1,1,1,1,0], k = 2\n",
    "Output: 6\n",
    "Explanation: [1,1,1,0,0,1,1,1,1,1,1]\n",
    "Bolded numbers were flipped from 0 to 1. The longest subarray is underlined.\n",
    "Example 2:\n",
    "\n",
    "Input: nums = [0,0,1,1,0,0,1,1,1,0,1,1,0,0,0,1,1,1,1], k = 3\n",
    "Output: 10\n",
    "Explanation: [0,0,1,1,1,1,1,1,1,1,1,1,0,0,0,1,1,1,1]\n",
    "Bolded numbers were flipped from 0 to 1. The longest subarray is underlined.\n",
    " \n",
    "\n",
    "Constraints:\n",
    "\n",
    "1 <= nums.length <= 105\n",
    "nums[i] is either 0 or 1.\n",
    "0 <= k <= nums.length"
   ]
  },
  {
   "cell_type": "code",
   "execution_count": null,
   "metadata": {},
   "outputs": [],
   "source": [
    "class Solution:\n",
    "    def longestOnes(self, nums: List[int], k: int) -> int:\n",
    "        \"\"\"\n",
    "            return the max num of back to back 1's if you can flip k 0's\n",
    "\n",
    "            1. l,curr, ans = length of subarray\n",
    "            2. for r\n",
    "            3. curr = count of 0's\n",
    "            4. while curr > k\n",
    "            5. if nums[l]==\"0\": curr -= 1\n",
    "            6. l++\n",
    "        \"\"\"\n",
    "        l, curr, ans = 0,0,0\n",
    "\n",
    "        for r in range(len(nums)):\n",
    "            if nums[r]== 0 :\n",
    "                curr += 1\n",
    "            \n",
    "            if curr>k:\n",
    "                if nums[l]==0:\n",
    "                    curr -=1 \n",
    "                l += 1\n",
    "\n",
    "            ans = max(ans,r-l+1)\n",
    "        \n",
    "        return ans"
   ]
  }
 ],
 "metadata": {
  "language_info": {
   "name": "python"
  }
 },
 "nbformat": 4,
 "nbformat_minor": 2
}
