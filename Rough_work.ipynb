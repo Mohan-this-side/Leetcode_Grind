{
 "cells": [
  {
   "cell_type": "markdown",
   "metadata": {},
   "source": [
    "When talking about complexity, there are normally three cases:\n",
    "\n",
    "1. Best case scenario\n",
    "2. Average case\n",
    "3. Worst case scenario"
   ]
  },
  {
   "cell_type": "code",
   "execution_count": 30,
   "metadata": {},
   "outputs": [
    {
     "name": "stdout",
     "output_type": "stream",
     "text": [
      "2\n",
      "3\n",
      "4\n",
      "5\n",
      "4\n",
      "5\n",
      "6\n",
      "6\n",
      "7\n",
      "8\n"
     ]
    }
   ],
   "source": [
    "arr = [1, 2, 3, 4]  # Example array, replace with your array values\n",
    "\n",
    "for i in range(len(arr)):\n",
    "    for j in range(i, len(arr)):\n",
    "        print(arr[i] + arr[j])\n"
   ]
  },
  {
   "cell_type": "code",
   "execution_count": 31,
   "metadata": {},
   "outputs": [
    {
     "data": {
      "text/plain": [
       "4"
      ]
     },
     "execution_count": 31,
     "metadata": {},
     "output_type": "execute_result"
    }
   ],
   "source": [
    "(arr[3])"
   ]
  },
  {
   "cell_type": "markdown",
   "metadata": {},
   "source": [
    "F \n",
    "n\n",
    "​\n",
    " =F \n",
    "n−1\n",
    "​\n",
    " +F \n",
    "n−2\n",
    "​\n",
    " \n",
    "\n"
   ]
  },
  {
   "cell_type": "code",
   "execution_count": 32,
   "metadata": {},
   "outputs": [],
   "source": [
    "A=\"abcdcba\" \n",
    "B=\"racecar\"\n",
    "C=\"abcdcbva\" \n",
    "\n",
    "\n",
    "def check_if_palindrome(s):\n",
    "    \n",
    "    left = 0\n",
    "    right =len(A)-1\n",
    "    \n",
    "    while left < right:\n",
    "        if s[left]!=s[right]:\n",
    "            return False\n",
    "        left += 1\n",
    "        right -= 1\n",
    "        \n",
    "    return True\n",
    "\n",
    "        "
   ]
  },
  {
   "cell_type": "code",
   "execution_count": 33,
   "metadata": {},
   "outputs": [
    {
     "data": {
      "text/plain": [
       "False"
      ]
     },
     "execution_count": 33,
     "metadata": {},
     "output_type": "execute_result"
    }
   ],
   "source": [
    "check_if_palindrome(C)"
   ]
  },
  {
   "cell_type": "markdown",
   "metadata": {},
   "source": [
    "Example 2: Given a sorted array of unique integers and a target integer, return true if there exists a pair of numbers that sum to target, false otherwise. This problem is similar to Two Sum. (In Two Sum, the input is not sorted).\n",
    "\n",
    "For example, given nums = [1, 2, 4, 6, 8, 9, 14, 15] and target = 13, return true because 4 + 9 = 13."
   ]
  },
  {
   "cell_type": "code",
   "execution_count": 34,
   "metadata": {},
   "outputs": [],
   "source": [
    "def ex2(a,b):\n",
    "    left= 0\n",
    "    right= len(a)-1\n",
    "    \n",
    "    while left < right:\n",
    "        if a[left]+a[right] == b:\n",
    "            return True\n",
    "        elif a[left]+a[right] < b:\n",
    "            left +=1\n",
    "        else:\n",
    "            right -=1\n",
    "            \n",
    "    return False"
   ]
  },
  {
   "cell_type": "code",
   "execution_count": 35,
   "metadata": {},
   "outputs": [
    {
     "data": {
      "text/plain": [
       "True"
      ]
     },
     "execution_count": 35,
     "metadata": {},
     "output_type": "execute_result"
    }
   ],
   "source": [
    "nums = [1, 2, 4, 6, 8, 9, 14, 15]\n",
    "target = 14\n",
    "ex2(nums,target)"
   ]
  },
  {
   "cell_type": "code",
   "execution_count": 36,
   "metadata": {},
   "outputs": [],
   "source": [
    "def check_for_target(nums, target):\n",
    "    left = 0\n",
    "    right = len(nums) - 1\n",
    "    while left < right:\n",
    "        # curr is the current sum\n",
    "        curr = nums[left] + nums[right]\n",
    "        if curr == target:\n",
    "            return True\n",
    "        if curr > target:\n",
    "            right -= 1\n",
    "        else:\n",
    "            left += 1\n",
    "    \n",
    "    return False"
   ]
  },
  {
   "cell_type": "code",
   "execution_count": 37,
   "metadata": {},
   "outputs": [
    {
     "data": {
      "text/plain": [
       "True"
      ]
     },
     "execution_count": 37,
     "metadata": {},
     "output_type": "execute_result"
    }
   ],
   "source": [
    "check_for_target(nums,target)"
   ]
  },
  {
   "cell_type": "markdown",
   "metadata": {},
   "source": [
    "Example 3: Given two sorted integer arrays arr1 and arr2, return a new array that combines both of them and is also sorted."
   ]
  },
  {
   "cell_type": "code",
   "execution_count": 38,
   "metadata": {},
   "outputs": [],
   "source": [
    "def ex3(a,b):\n",
    "    i = j = 0\n",
    "    \n",
    "    new_list = []\n",
    "    \n",
    "    while i < len(a) and j<len(b):\n",
    "        \n",
    "        if a[i] < b[i]:\n",
    "            new_list.append(a[i])\n",
    "            i+=1\n",
    "        else:\n",
    "            new_list.append(b[j])\n",
    "            j+=1\n",
    "    \n",
    "    while i < len(a):\n",
    "        new_list.append(a[i])\n",
    "        i += 1\n",
    "    \n",
    "    while j < len(b):\n",
    "        new_list.append(b[j])\n",
    "        j += 1\n",
    "        \n",
    "    return new_list"
   ]
  },
  {
   "cell_type": "code",
   "execution_count": 39,
   "metadata": {},
   "outputs": [
    {
     "data": {
      "text/plain": [
       "[1, 4, 3, 5, 6, 7, 20]"
      ]
     },
     "execution_count": 39,
     "metadata": {},
     "output_type": "execute_result"
    }
   ],
   "source": [
    "a = [1,4,7,20]\n",
    "b = [3,5,6]\n",
    "\n",
    "ex3(a,b)"
   ]
  },
  {
   "cell_type": "code",
   "execution_count": 40,
   "metadata": {},
   "outputs": [
    {
     "name": "stdout",
     "output_type": "stream",
     "text": [
      "Not done\n",
      "done\n",
      "Not done\n",
      "done\n",
      "done\n",
      "Not done\n"
     ]
    }
   ],
   "source": [
    "for x in range(2,5):\n",
    "    for n in range(2,x):\n",
    "        print(\"done\")\n",
    "    else:\n",
    "        print(\"Not done\")\n"
   ]
  },
  {
   "cell_type": "code",
   "execution_count": 41,
   "metadata": {},
   "outputs": [],
   "source": [
    "def http_error(status):\n",
    "    match status:\n",
    "        case 400:\n",
    "            return \"Bad request\"\n",
    "        case 404:\n",
    "            return \"Not found\"\n",
    "        case 418:\n",
    "            return \"I'm a teapot\"\n",
    "        case _:\n",
    "            return \"Something's wrong with the internet\""
   ]
  },
  {
   "cell_type": "code",
   "execution_count": 42,
   "metadata": {},
   "outputs": [
    {
     "data": {
      "text/plain": [
       "\"Something's wrong with the internet\""
      ]
     },
     "execution_count": 42,
     "metadata": {},
     "output_type": "execute_result"
    }
   ],
   "source": [
    "http_error(419)"
   ]
  },
  {
   "cell_type": "code",
   "execution_count": 43,
   "metadata": {},
   "outputs": [
    {
     "data": {
      "text/plain": [
       "\"I'm a teapot\""
      ]
     },
     "execution_count": 43,
     "metadata": {},
     "output_type": "execute_result"
    }
   ],
   "source": [
    "http_error(418)"
   ]
  },
  {
   "cell_type": "markdown",
   "metadata": {},
   "source": [
    "0 1 1 2 3 5 8 13 21 34 55 89 144 233 377 610"
   ]
  },
  {
   "cell_type": "code",
   "execution_count": 44,
   "metadata": {},
   "outputs": [],
   "source": [
    "def feb(n):\n",
    "    a = 0\n",
    "    b = 1\n",
    "    while (a<n):\n",
    "        print(a,end=' ')\n",
    "        a,b = b, a+b\n",
    "    print()\n",
    "    \n",
    "    "
   ]
  },
  {
   "cell_type": "code",
   "execution_count": 45,
   "metadata": {},
   "outputs": [
    {
     "name": "stdout",
     "output_type": "stream",
     "text": [
      "0 1 1 2 3 5 8 13 21 34 55 89 144 \n"
     ]
    }
   ],
   "source": [
    "feb(146)\n"
   ]
  },
  {
   "cell_type": "markdown",
   "metadata": {},
   "source": [
    "Example 1: Given an array of positive integers nums and an integer k, find the length of the longest subarray whose sum is less than or equal to k. This is the problem we have been talking about above. We will now formally solve it.\n",
    "\n",
    "nums = [3, 1, 2, 7, 4, 2, 1, 1, 5] and k = 8."
   ]
  },
  {
   "cell_type": "code",
   "execution_count": null,
   "metadata": {},
   "outputs": [],
   "source": []
  },
  {
   "cell_type": "code",
   "execution_count": 46,
   "metadata": {},
   "outputs": [
    {
     "ename": "IndentationError",
     "evalue": "expected an indented block after function definition on line 4 (1428849018.py, line 5)",
     "output_type": "error",
     "traceback": [
      "\u001b[0;36m  Cell \u001b[0;32mIn[46], line 5\u001b[0;36m\u001b[0m\n\u001b[0;31m    l = 0\u001b[0m\n\u001b[0m    ^\u001b[0m\n\u001b[0;31mIndentationError\u001b[0m\u001b[0;31m:\u001b[0m expected an indented block after function definition on line 4\n"
     ]
    }
   ],
   "source": [
    "    \"\"\"define l r ans, for loop of right,maint curr, while curr<k-left++, return max(ans,r-l+1) \n",
    "    \"\"\"\n",
    "\n",
    "def logsubarray(nums,k):\n",
    "    l = 0\n",
    "    r = 0\n",
    "    ans = 0\n",
    "    \n",
    "    for r in range(0,len(nums)):\n",
    "        curr = nums[nums[r]]\n",
    "        \n",
    "        while curr > k:\n",
    "            curr -= nums[l]\n",
    "            l += 1\n",
    "            \n",
    "        ans= max(ans,r-l+1)\n",
    "        \n",
    "    return ans\n",
    "             "
   ]
  },
  {
   "cell_type": "code",
   "execution_count": null,
   "metadata": {},
   "outputs": [],
   "source": [
    "def logsubarray(nums,k):\n",
    "    l ,r = 0,0\n",
    "    ans = 0\n",
    "    curr = 0\n",
    "    \n",
    "    for r in range(len(nums)):\n",
    "        curr += nums[r]\n",
    "        \n",
    "        while curr > k:\n",
    "            curr -= nums[l]\n",
    "            l += 1\n",
    "            \n",
    "        ans= max(ans,r-l+1)\n",
    "        \n",
    "    return ans"
   ]
  },
  {
   "cell_type": "code",
   "execution_count": null,
   "metadata": {},
   "outputs": [
    {
     "data": {
      "text/plain": [
       "4"
      ]
     },
     "execution_count": 108,
     "metadata": {},
     "output_type": "execute_result"
    }
   ],
   "source": [
    "nums = [3, 1, 2, 7, 4, 2, 1, 1, 5] \n",
    "k = 8.\n",
    "logsubarray(nums,k)"
   ]
  },
  {
   "cell_type": "markdown",
   "metadata": {},
   "source": [
    "Example 2: You are given a binary string s (a string containing only \"0\" and \"1\"). You may choose up to one \"0\" and flip it to a \"1\". What is the length of the longest substring achievable that contains only \"1\"?\n",
    "\n",
    "For example, given s = \"1101100111\", the answer is 5. If you perform the flip at index 2, the string becomes 1111100111."
   ]
  },
  {
   "cell_type": "markdown",
   "metadata": {},
   "source": [
    "1. l,r,curr,ans\n",
    "2. for r \n",
    "3. curr = count of 0\n",
    "4. while curr< 2\n",
    "5. ans = max(ans,r-l+1)\n",
    "6. "
   ]
  },
  {
   "cell_type": "code",
   "execution_count": null,
   "metadata": {},
   "outputs": [],
   "source": [
    "def maxiones(s):\n",
    "    l,r,curr,ans=0,0,0,0\n",
    "    \n",
    "    for r in range(len(s)):\n",
    "        if s[r]==\"0\":\n",
    "            curr += 1\n",
    "            \n",
    "        while curr>1:\n",
    "            if s[l] == \"0\":\n",
    "                curr -= 1\n",
    "            l +=1\n",
    "             \n",
    "            \n",
    "        ans = max(ans,r-l+1)\n",
    "        \n",
    "    return ans            \n",
    "    "
   ]
  },
  {
   "cell_type": "code",
   "execution_count": null,
   "metadata": {},
   "outputs": [
    {
     "data": {
      "text/plain": [
       "5"
      ]
     },
     "execution_count": 133,
     "metadata": {},
     "output_type": "execute_result"
    }
   ],
   "source": [
    "s = \"1101100111\"\n",
    "maxiones(s)"
   ]
  },
  {
   "cell_type": "markdown",
   "metadata": {},
   "source": [
    "Example 1: Given an integer array nums, an array queries where queries[i] = [x, y] and an integer limit, return a boolean array that represents the answer to each query. A query is true if the sum of the subarray from x to y is less than limit, or false otherwise.\n",
    "\n",
    "For example, given nums = [1, 6, 3, 2, 7, 2], queries = [[0, 3], [2, 5], [2, 4]], and limit = 13, the answer is [true, false, true]. For each query, the subarray sums are [12, 14, 12]."
   ]
  },
  {
   "cell_type": "code",
   "execution_count": null,
   "metadata": {},
   "outputs": [],
   "source": [
    "def ex1(nums,queries,limit):\n",
    "    \n",
    "    ans = []\n",
    "    presum = []\n",
    "    presum.append(nums[0])\n",
    "    \n",
    "    for i in range(1,len(nums)):\n",
    "        presum.append(nums[i]+presum[len(presum)-1])\n",
    "        \n",
    "    print(presum)\n",
    "    for i in queries:\n",
    "        if presum[i[1]]-presum[i[0]-1] < limit:\n",
    "            ans.append(True)\n",
    "        else:\n",
    "            ans.append(False)\n",
    "            \n",
    "    return ans"
   ]
  },
  {
   "cell_type": "code",
   "execution_count": null,
   "metadata": {},
   "outputs": [
    {
     "ename": "NameError",
     "evalue": "name 'ex1' is not defined",
     "output_type": "error",
     "traceback": [
      "\u001b[0;31m---------------------------------------------------------------------------\u001b[0m",
      "\u001b[0;31mNameError\u001b[0m                                 Traceback (most recent call last)",
      "Cell \u001b[0;32mIn[1], line 4\u001b[0m\n\u001b[1;32m      2\u001b[0m queries \u001b[38;5;241m=\u001b[39m [[\u001b[38;5;241m0\u001b[39m, \u001b[38;5;241m3\u001b[39m], [\u001b[38;5;241m2\u001b[39m, \u001b[38;5;241m5\u001b[39m], [\u001b[38;5;241m2\u001b[39m, \u001b[38;5;241m4\u001b[39m]]\n\u001b[1;32m      3\u001b[0m limit \u001b[38;5;241m=\u001b[39m \u001b[38;5;241m13\u001b[39m\n\u001b[0;32m----> 4\u001b[0m \u001b[43mex1\u001b[49m(nums,queries,limit)\n",
      "\u001b[0;31mNameError\u001b[0m: name 'ex1' is not defined"
     ]
    }
   ],
   "source": [
    "nums = [1, 6, 3, 2, 7, 2]\n",
    "queries = [[0, 3], [2, 5], [2, 4]]\n",
    "limit = 13\n",
    "ex1(nums,queries,limit)\n",
    "#hello"
   ]
  },
  {
   "cell_type": "code",
   "execution_count": null,
   "metadata": {},
   "outputs": [
    {
     "name": "stdout",
     "output_type": "stream",
     "text": [
      "s'teL ekat edoCteeL tsetnoc\n"
     ]
    }
   ],
   "source": [
    "s = \"Let's take LeetCode contest\"\n",
    "s = list(s)\n",
    "l=0\n",
    "\n",
    "for r in range(len(s)):\n",
    "    if s[r]==\" \" or r ==len(s)-1:\n",
    "        temp_l, temp_r= l, r-1\n",
    "        if r == len(s)-1:\n",
    "            temp_r = r\n",
    "        while temp_l<temp_r:\n",
    "            s[temp_l],s[temp_r] = s[temp_r],s[temp_l]\n",
    "            temp_l += 1\n",
    "            temp_r -= 1\n",
    "        l = r + 1\n",
    "\n",
    "print( \"\".join(s))"
   ]
  },
  {
   "cell_type": "code",
   "execution_count": null,
   "metadata": {},
   "outputs": [
    {
     "name": "stdout",
     "output_type": "stream",
     "text": [
      "[1, 6, 3, 2, 7, 0]\n"
     ]
    }
   ],
   "source": [
    "s =[0,1,0,3,12]\n",
    "\n",
    "\n",
    "N = [0]*len(nums)\n",
    "i = 0\n",
    "j = 0\n",
    "\n",
    "for i in range(len(s)):\n",
    "    if s[i] != 0:\n",
    "        N[j] = nums[i]\n",
    "        j+= 1\n",
    "    \n",
    "\n",
    "print( N)"
   ]
  },
  {
   "cell_type": "code",
   "execution_count": null,
   "metadata": {},
   "outputs": [],
   "source": [
    "import numpy as np\n",
    "import pandas as pd\n"
   ]
  },
  {
   "cell_type": "code",
   "execution_count": null,
   "metadata": {},
   "outputs": [],
   "source": [
    "s=pd.Series(np.random.randn(5))"
   ]
  },
  {
   "cell_type": "code",
   "execution_count": null,
   "metadata": {},
   "outputs": [
    {
     "data": {
      "text/plain": [
       "0    0.320053\n",
       "1   -2.132088\n",
       "2   -0.131835\n",
       "3   -1.722453\n",
       "4    0.436266\n",
       "dtype: float64"
      ]
     },
     "execution_count": 10,
     "metadata": {},
     "output_type": "execute_result"
    }
   ],
   "source": [
    "s"
   ]
  },
  {
   "cell_type": "code",
   "execution_count": null,
   "metadata": {},
   "outputs": [
    {
     "data": {
      "text/plain": [
       "0    1.377201\n",
       "1    0.118589\n",
       "2    0.876485\n",
       "3    0.178627\n",
       "4    1.546920\n",
       "dtype: float64"
      ]
     },
     "execution_count": 14,
     "metadata": {},
     "output_type": "execute_result"
    }
   ],
   "source": [
    "np.exp(s)"
   ]
  },
  {
   "cell_type": "code",
   "execution_count": null,
   "metadata": {},
   "outputs": [
    {
     "data": {
      "text/plain": [
       "dtype('float64')"
      ]
     },
     "execution_count": 15,
     "metadata": {},
     "output_type": "execute_result"
    }
   ],
   "source": [
    "s.dtype"
   ]
  },
  {
   "cell_type": "code",
   "execution_count": null,
   "metadata": {},
   "outputs": [
    {
     "data": {
      "text/plain": [
       "0.43626585297392884"
      ]
     },
     "execution_count": 19,
     "metadata": {},
     "output_type": "execute_result"
    }
   ],
   "source": [
    "s.get(4,np.nan)"
   ]
  },
  {
   "cell_type": "code",
   "execution_count": null,
   "metadata": {},
   "outputs": [],
   "source": [
    "d = {\"one\": [1.0, 2.0, 3.0, 4.0], \"two\": [4.0, 3.0, 2.0, 1.0]}\n",
    "df_d = pd.DataFrame(d)"
   ]
  },
  {
   "cell_type": "code",
   "execution_count": null,
   "metadata": {},
   "outputs": [
    {
     "data": {
      "text/html": [
       "<div>\n",
       "<style scoped>\n",
       "    .dataframe tbody tr th:only-of-type {\n",
       "        vertical-align: middle;\n",
       "    }\n",
       "\n",
       "    .dataframe tbody tr th {\n",
       "        vertical-align: top;\n",
       "    }\n",
       "\n",
       "    .dataframe thead th {\n",
       "        text-align: right;\n",
       "    }\n",
       "</style>\n",
       "<table border=\"1\" class=\"dataframe\">\n",
       "  <thead>\n",
       "    <tr style=\"text-align: right;\">\n",
       "      <th></th>\n",
       "      <th>one</th>\n",
       "      <th>two</th>\n",
       "    </tr>\n",
       "  </thead>\n",
       "  <tbody>\n",
       "    <tr>\n",
       "      <th>0</th>\n",
       "      <td>1.0</td>\n",
       "      <td>4.0</td>\n",
       "    </tr>\n",
       "    <tr>\n",
       "      <th>1</th>\n",
       "      <td>2.0</td>\n",
       "      <td>3.0</td>\n",
       "    </tr>\n",
       "    <tr>\n",
       "      <th>2</th>\n",
       "      <td>3.0</td>\n",
       "      <td>2.0</td>\n",
       "    </tr>\n",
       "    <tr>\n",
       "      <th>3</th>\n",
       "      <td>4.0</td>\n",
       "      <td>1.0</td>\n",
       "    </tr>\n",
       "  </tbody>\n",
       "</table>\n",
       "</div>"
      ],
      "text/plain": [
       "   one  two\n",
       "0  1.0  4.0\n",
       "1  2.0  3.0\n",
       "2  3.0  2.0\n",
       "3  4.0  1.0"
      ]
     },
     "execution_count": 24,
     "metadata": {},
     "output_type": "execute_result"
    }
   ],
   "source": [
    "df_d"
   ]
  },
  {
   "cell_type": "code",
   "execution_count": null,
   "metadata": {},
   "outputs": [],
   "source": [
    "df_x = pd.DataFrame([[1,2,3],[4,5,6]],columns=[\"a\",\"b\",\"c\"])"
   ]
  },
  {
   "cell_type": "code",
   "execution_count": null,
   "metadata": {},
   "outputs": [
    {
     "data": {
      "text/html": [
       "<div>\n",
       "<style scoped>\n",
       "    .dataframe tbody tr th:only-of-type {\n",
       "        vertical-align: middle;\n",
       "    }\n",
       "\n",
       "    .dataframe tbody tr th {\n",
       "        vertical-align: top;\n",
       "    }\n",
       "\n",
       "    .dataframe thead th {\n",
       "        text-align: right;\n",
       "    }\n",
       "</style>\n",
       "<table border=\"1\" class=\"dataframe\">\n",
       "  <thead>\n",
       "    <tr style=\"text-align: right;\">\n",
       "      <th></th>\n",
       "      <th>a</th>\n",
       "      <th>b</th>\n",
       "      <th>c</th>\n",
       "    </tr>\n",
       "  </thead>\n",
       "  <tbody>\n",
       "    <tr>\n",
       "      <th>0</th>\n",
       "      <td>1</td>\n",
       "      <td>2</td>\n",
       "      <td>3</td>\n",
       "    </tr>\n",
       "    <tr>\n",
       "      <th>1</th>\n",
       "      <td>4</td>\n",
       "      <td>5</td>\n",
       "      <td>6</td>\n",
       "    </tr>\n",
       "  </tbody>\n",
       "</table>\n",
       "</div>"
      ],
      "text/plain": [
       "   a  b  c\n",
       "0  1  2  3\n",
       "1  4  5  6"
      ]
     },
     "execution_count": 57,
     "metadata": {},
     "output_type": "execute_result"
    }
   ],
   "source": [
    "df_x"
   ]
  },
  {
   "cell_type": "code",
   "execution_count": null,
   "metadata": {},
   "outputs": [
    {
     "data": {
      "text/html": [
       "<div>\n",
       "<style scoped>\n",
       "    .dataframe tbody tr th:only-of-type {\n",
       "        vertical-align: middle;\n",
       "    }\n",
       "\n",
       "    .dataframe tbody tr th {\n",
       "        vertical-align: top;\n",
       "    }\n",
       "\n",
       "    .dataframe thead th {\n",
       "        text-align: right;\n",
       "    }\n",
       "</style>\n",
       "<table border=\"1\" class=\"dataframe\">\n",
       "  <thead>\n",
       "    <tr style=\"text-align: right;\">\n",
       "      <th></th>\n",
       "      <th>a</th>\n",
       "      <th>b</th>\n",
       "      <th>c</th>\n",
       "    </tr>\n",
       "  </thead>\n",
       "  <tbody>\n",
       "    <tr>\n",
       "      <th>1</th>\n",
       "      <td>4</td>\n",
       "      <td>5</td>\n",
       "      <td>6</td>\n",
       "    </tr>\n",
       "  </tbody>\n",
       "</table>\n",
       "</div>"
      ],
      "text/plain": [
       "   a  b  c\n",
       "1  4  5  6"
      ]
     },
     "execution_count": 58,
     "metadata": {},
     "output_type": "execute_result"
    }
   ],
   "source": [
    "df_x.iloc[1:]"
   ]
  },
  {
   "cell_type": "code",
   "execution_count": null,
   "metadata": {},
   "outputs": [],
   "source": [
    "ser3 = pd.Series([2, 4, 6], index=[\"b\", \"c\", \"d\"])"
   ]
  },
  {
   "cell_type": "code",
   "execution_count": null,
   "metadata": {},
   "outputs": [
    {
     "data": {
      "text/plain": [
       "b    2\n",
       "c    4\n",
       "d    6\n",
       "dtype: int64"
      ]
     },
     "execution_count": 63,
     "metadata": {},
     "output_type": "execute_result"
    }
   ],
   "source": [
    "ser3"
   ]
  },
  {
   "cell_type": "code",
   "execution_count": null,
   "metadata": {},
   "outputs": [
    {
     "ename": "NameError",
     "evalue": "name 'b' is not defined",
     "output_type": "error",
     "traceback": [
      "\u001b[0;31m---------------------------------------------------------------------------\u001b[0m",
      "\u001b[0;31mNameError\u001b[0m                                 Traceback (most recent call last)",
      "Cell \u001b[0;32mIn[69], line 1\u001b[0m\n\u001b[0;32m----> 1\u001b[0m df_x\u001b[38;5;241m.\u001b[39mloc[\u001b[43mb\u001b[49m]\n",
      "\u001b[0;31mNameError\u001b[0m: name 'b' is not defined"
     ]
    }
   ],
   "source": [
    "df_x.loc[b]"
   ]
  },
  {
   "cell_type": "code",
   "execution_count": null,
   "metadata": {},
   "outputs": [
    {
     "name": "stdout",
     "output_type": "stream",
     "text": [
      "0    1\n",
      "1    2\n",
      "2    3\n",
      "dtype: int64\n"
     ]
    }
   ],
   "source": [
    "a = pd.Series([1,2,3])\n",
    "print(a)\n"
   ]
  },
  {
   "cell_type": "code",
   "execution_count": null,
   "metadata": {},
   "outputs": [],
   "source": [
    "list_a = list(a)"
   ]
  },
  {
   "cell_type": "code",
   "execution_count": null,
   "metadata": {},
   "outputs": [
    {
     "data": {
      "text/plain": [
       "[1, 2, 3]"
      ]
     },
     "execution_count": 75,
     "metadata": {},
     "output_type": "execute_result"
    }
   ],
   "source": [
    "list_a"
   ]
  },
  {
   "cell_type": "code",
   "execution_count": null,
   "metadata": {},
   "outputs": [
    {
     "data": {
      "text/plain": [
       "[1, 2, 3]"
      ]
     },
     "execution_count": 76,
     "metadata": {},
     "output_type": "execute_result"
    }
   ],
   "source": [
    "a.tolist()"
   ]
  },
  {
   "cell_type": "code",
   "execution_count": null,
   "metadata": {},
   "outputs": [
    {
     "data": {
      "text/plain": [
       "0    0\n",
       "1    0\n",
       "2    0\n",
       "dtype: int64"
      ]
     },
     "execution_count": 80,
     "metadata": {},
     "output_type": "execute_result"
    }
   ],
   "source": [
    "b = pd.Series([4,5,6])\n",
    "a//b"
   ]
  },
  {
   "cell_type": "code",
   "execution_count": null,
   "metadata": {},
   "outputs": [],
   "source": [
    "a = pd.Series([2, 4, 6, 8, 10])\n",
    "b = pd.Series([1, 3, 5, 7, 10])"
   ]
  },
  {
   "cell_type": "code",
   "execution_count": null,
   "metadata": {},
   "outputs": [
    {
     "data": {
      "text/plain": [
       "0    True\n",
       "1    True\n",
       "2    True\n",
       "3    True\n",
       "4    True\n",
       "dtype: bool"
      ]
     },
     "execution_count": 88,
     "metadata": {},
     "output_type": "execute_result"
    }
   ],
   "source": [
    "a>=b"
   ]
  },
  {
   "cell_type": "code",
   "execution_count": null,
   "metadata": {},
   "outputs": [],
   "source": [
    "x = pd.Series({'a': 100, 'b': 200, 'c': 300, 'd': 400, 'e': 800})"
   ]
  },
  {
   "cell_type": "code",
   "execution_count": null,
   "metadata": {},
   "outputs": [
    {
     "data": {
      "text/plain": [
       "a    100\n",
       "b    200\n",
       "c    300\n",
       "d    400\n",
       "e    800\n",
       "dtype: int64"
      ]
     },
     "execution_count": 90,
     "metadata": {},
     "output_type": "execute_result"
    }
   ],
   "source": [
    "x"
   ]
  },
  {
   "cell_type": "code",
   "execution_count": null,
   "metadata": {},
   "outputs": [
    {
     "ename": "SyntaxError",
     "evalue": "invalid syntax. Perhaps you forgot a comma? (2703878376.py, line 1)",
     "output_type": "error",
     "traceback": [
      "\u001b[0;36m  Cell \u001b[0;32mIn[91], line 1\u001b[0;36m\u001b[0m\n\u001b[0;31m    c = [10 20 30 40 50]\u001b[0m\n\u001b[0m         ^\u001b[0m\n\u001b[0;31mSyntaxError\u001b[0m\u001b[0;31m:\u001b[0m invalid syntax. Perhaps you forgot a comma?\n"
     ]
    }
   ],
   "source": [
    "c = [10 20 30 40 50]\n"
   ]
  },
  {
   "cell_type": "code",
   "execution_count": null,
   "metadata": {},
   "outputs": [
    {
     "data": {
      "text/plain": [
       "0       100\n",
       "1       200\n",
       "2    python\n",
       "3    300.12\n",
       "4       400\n",
       "dtype: object"
      ]
     },
     "execution_count": 92,
     "metadata": {},
     "output_type": "execute_result"
    }
   ],
   "source": [
    "s1 = pd.Series(['100', '200', 'python', '300.12', '400'])\n",
    "s1"
   ]
  },
  {
   "cell_type": "code",
   "execution_count": null,
   "metadata": {},
   "outputs": [
    {
     "data": {
      "text/plain": [
       "0    100.00\n",
       "1    200.00\n",
       "2       NaN\n",
       "3    300.12\n",
       "4    400.00\n",
       "dtype: float64"
      ]
     },
     "execution_count": 94,
     "metadata": {},
     "output_type": "execute_result"
    }
   ],
   "source": [
    "s2 = pd.to_numeric(s1,errors='coerce')\n",
    "s2"
   ]
  },
  {
   "cell_type": "code",
   "execution_count": null,
   "metadata": {},
   "outputs": [],
   "source": [
    "s = pd.Series(['100', '200', 'python', '300.12', '400'])"
   ]
  },
  {
   "cell_type": "code",
   "execution_count": null,
   "metadata": {},
   "outputs": [],
   "source": [
    "d = s.sort_values()"
   ]
  },
  {
   "cell_type": "code",
   "execution_count": null,
   "metadata": {},
   "outputs": [
    {
     "data": {
      "text/plain": [
       "0       100\n",
       "1       200\n",
       "3    300.12\n",
       "4       400\n",
       "2    python\n",
       "dtype: object"
      ]
     },
     "execution_count": 97,
     "metadata": {},
     "output_type": "execute_result"
    }
   ],
   "source": [
    "d"
   ]
  },
  {
   "cell_type": "code",
   "execution_count": null,
   "metadata": {},
   "outputs": [],
   "source": [
    "s = pd.Series([0,1,2,3,4,5,6,7,8,9,10])"
   ]
  },
  {
   "cell_type": "code",
   "execution_count": null,
   "metadata": {},
   "outputs": [
    {
     "data": {
      "text/plain": [
       "0    0\n",
       "1    1\n",
       "2    2\n",
       "3    3\n",
       "4    4\n",
       "dtype: int64"
      ]
     },
     "execution_count": 99,
     "metadata": {},
     "output_type": "execute_result"
    }
   ],
   "source": [
    "d = s[s<5]\n",
    "d"
   ]
  },
  {
   "cell_type": "code",
   "execution_count": null,
   "metadata": {},
   "outputs": [
    {
     "data": {
      "text/plain": [
       "'Mohan how are you doing today, the time is 11 now'"
      ]
     },
     "execution_count": 105,
     "metadata": {},
     "output_type": "execute_result"
    }
   ],
   "source": [
    "hw = '%s how are you doing today, the time is %d now' % ('Mohan',11)\n",
    "hw\n"
   ]
  },
  {
   "cell_type": "code",
   "execution_count": null,
   "metadata": {},
   "outputs": [
    {
     "name": "stdout",
     "output_type": "stream",
     "text": [
      "MOHAN HOW ARE YOU DOING TODAY, THE TIME IS 11 NOW\n"
     ]
    }
   ],
   "source": [
    "print(hw.upper())"
   ]
  },
  {
   "cell_type": "code",
   "execution_count": null,
   "metadata": {},
   "outputs": [
    {
     "name": "stdout",
     "output_type": "stream",
     "text": [
      "#1: cat\n",
      "#2: dog\n",
      "#3: monkey\n"
     ]
    }
   ],
   "source": [
    "animals = ['cat', 'dog', 'monkey']\n",
    "for idx, animal in enumerate(animals):\n",
    "    print('#%d: %s' % (idx + 1, animal))"
   ]
  },
  {
   "cell_type": "code",
   "execution_count": null,
   "metadata": {},
   "outputs": [],
   "source": [
    "student_data =[\n",
    "  [1, 15],\n",
    "  [2, 11],\n",
    "  [3, 11],\n",
    "  [4, 20]\n",
    "]\n"
   ]
  },
  {
   "cell_type": "code",
   "execution_count": null,
   "metadata": {},
   "outputs": [
    {
     "name": "stdout",
     "output_type": "stream",
     "text": [
      "1\n",
      "2\n",
      "3\n",
      "4\n"
     ]
    }
   ],
   "source": [
    "for i in student_data:\n",
    "    print(i[0])"
   ]
  },
  {
   "cell_type": "code",
   "execution_count": null,
   "metadata": {},
   "outputs": [
    {
     "ename": "AttributeError",
     "evalue": "'list' object has no attribute 'shape'",
     "output_type": "error",
     "traceback": [
      "\u001b[0;31m---------------------------------------------------------------------------\u001b[0m",
      "\u001b[0;31mAttributeError\u001b[0m                            Traceback (most recent call last)",
      "Cell \u001b[0;32mIn[117], line 1\u001b[0m\n\u001b[0;32m----> 1\u001b[0m ans \u001b[38;5;241m=\u001b[39m \u001b[38;5;28mlist\u001b[39m(\u001b[43mstudent_data\u001b[49m\u001b[38;5;241;43m.\u001b[39;49m\u001b[43mshape\u001b[49m[\u001b[38;5;241m0\u001b[39m],student_data\u001b[38;5;241m.\u001b[39mshape[\u001b[38;5;241m1\u001b[39m])\n\u001b[1;32m      2\u001b[0m ans\n",
      "\u001b[0;31mAttributeError\u001b[0m: 'list' object has no attribute 'shape'"
     ]
    }
   ],
   "source": [
    "ans = list(student_data.shape[0],student_data.shape[1])\n",
    "ans\n"
   ]
  },
  {
   "cell_type": "code",
   "execution_count": null,
   "metadata": {},
   "outputs": [
    {
     "name": "stdout",
     "output_type": "stream",
     "text": [
      "1) Mohan\n",
      "2) Yash\n",
      "3) Rishi\n"
     ]
    }
   ],
   "source": [
    "animals = ['Mohan','Yash','Rishi']\n",
    "for id,name in enumerate(animals):\n",
    "    print(\"%d) %s\" % (id+1,name))"
   ]
  },
  {
   "cell_type": "code",
   "execution_count": null,
   "metadata": {},
   "outputs": [
    {
     "data": {
      "text/plain": [
       "True"
      ]
     },
     "execution_count": 8,
     "metadata": {},
     "output_type": "execute_result"
    }
   ],
   "source": [
    "from typing import List\n",
    "nums = [1,2,3,1]\n",
    "hashset = set()\n",
    "def contain_duplicate(nums: List[int]) -> bool:\n",
    "    for i in nums:\n",
    "        if i in hashset:\n",
    "            return True\n",
    "        hashset.add(i)\n",
    "    return False\n",
    "\n",
    "\n",
    "contain_duplicate(nums)\n",
    "\n",
    "    "
   ]
  },
  {
   "cell_type": "code",
   "execution_count": null,
   "metadata": {},
   "outputs": [
    {
     "name": "stdout",
     "output_type": "stream",
     "text": [
      "True\n",
      "True\n",
      "True\n",
      "True\n",
      "True\n",
      "True\n",
      "True\n"
     ]
    }
   ],
   "source": [
    "s = \"anagram\"\n",
    "t = \"nagaram\"\n",
    "\n",
    "arr = []\n",
    "for i in s:\n",
    "    arr.append(i)\n",
    "    \n",
    "for j in t:\n",
    "    if j in arr:\n",
    "        arr.remove(j) \n",
    "    else:\n",
    "        print('False')\n",
    "    print(\"True\")   "
   ]
  },
  {
   "cell_type": "code",
   "execution_count": null,
   "metadata": {},
   "outputs": [
    {
     "name": "stdout",
     "output_type": "stream",
     "text": [
      "True\n"
     ]
    }
   ],
   "source": [
    "if len(s)!=len(t):\n",
    "    print('false')\n",
    "\n",
    "dict = {}\n",
    "dict2 = {}\n",
    "for i in range(len(s)):\n",
    "    dict[s[i]] = 1 + dict.get(s[i],0)\n",
    "    dict2[t[i]] = 1 + dict2.get(t[i],0)\n",
    "    \n",
    "print(dict==dict2)\n",
    "    "
   ]
  },
  {
   "cell_type": "code",
   "execution_count": null,
   "metadata": {},
   "outputs": [
    {
     "data": {
      "text/plain": [
       "{'a': 3, 'n': 1, 'g': 1, 'r': 1, 'm': 1}"
      ]
     },
     "execution_count": 17,
     "metadata": {},
     "output_type": "execute_result"
    }
   ],
   "source": [
    "dict"
   ]
  },
  {
   "cell_type": "code",
   "execution_count": null,
   "metadata": {},
   "outputs": [
    {
     "data": {
      "text/plain": [
       "{'n': 1, 'a': 3, 'g': 1, 'r': 1, 'm': 1}"
      ]
     },
     "execution_count": 18,
     "metadata": {},
     "output_type": "execute_result"
    }
   ],
   "source": [
    "dict2"
   ]
  },
  {
   "cell_type": "markdown",
   "metadata": {},
   "source": [
    "Input: strs = [\"eat\",\"tea\",\"tan\",\"ate\",\"nat\",\"bat\"] \n",
    "\n",
    "Output: [[\"bat\"],[\"nat\",\"tan\"],[\"ate\",\"eat\",\"tea\"]]"
   ]
  },
  {
   "cell_type": "code",
   "execution_count": null,
   "metadata": {},
   "outputs": [
    {
     "name": "stdout",
     "output_type": "stream",
     "text": [
      "dict_values([['eat', 'tea', 'ate'], ['tan', 'nat'], ['bat']])\n"
     ]
    }
   ],
   "source": [
    "from collections import defaultdict\n",
    "\n",
    "\n",
    "strs = [\"eat\",\"tea\",\"tan\",\"ate\",\"nat\",\"bat\"] \n",
    "\n",
    "ans = defaultdict(list)\n",
    "\n",
    "\n",
    "for i in strs:\n",
    "    count = [0]*26\n",
    "    for j in i:\n",
    "        count[ord(j)-ord(\"a\")] += 1\n",
    "        \n",
    "    ans[tuple(count)].append(i)\n",
    "    \n",
    "print(ans.values()) "
   ]
  },
  {
   "cell_type": "code",
   "execution_count": null,
   "metadata": {},
   "outputs": [
    {
     "data": {
      "text/plain": [
       "defaultdict(list,\n",
       "            {(1,\n",
       "              0,\n",
       "              0,\n",
       "              0,\n",
       "              1,\n",
       "              0,\n",
       "              0,\n",
       "              0,\n",
       "              0,\n",
       "              0,\n",
       "              0,\n",
       "              0,\n",
       "              0,\n",
       "              0,\n",
       "              0,\n",
       "              0,\n",
       "              0,\n",
       "              0,\n",
       "              0,\n",
       "              1,\n",
       "              0,\n",
       "              0,\n",
       "              0,\n",
       "              0,\n",
       "              0,\n",
       "              0): ['eat', 'tea', 'ate'],\n",
       "             (1,\n",
       "              0,\n",
       "              0,\n",
       "              0,\n",
       "              0,\n",
       "              0,\n",
       "              0,\n",
       "              0,\n",
       "              0,\n",
       "              0,\n",
       "              0,\n",
       "              0,\n",
       "              0,\n",
       "              1,\n",
       "              0,\n",
       "              0,\n",
       "              0,\n",
       "              0,\n",
       "              0,\n",
       "              1,\n",
       "              0,\n",
       "              0,\n",
       "              0,\n",
       "              0,\n",
       "              0,\n",
       "              0): ['tan', 'nat'],\n",
       "             (1,\n",
       "              1,\n",
       "              0,\n",
       "              0,\n",
       "              0,\n",
       "              0,\n",
       "              0,\n",
       "              0,\n",
       "              0,\n",
       "              0,\n",
       "              0,\n",
       "              0,\n",
       "              0,\n",
       "              0,\n",
       "              0,\n",
       "              0,\n",
       "              0,\n",
       "              0,\n",
       "              0,\n",
       "              1,\n",
       "              0,\n",
       "              0,\n",
       "              0,\n",
       "              0,\n",
       "              0,\n",
       "              0): ['bat']})"
      ]
     },
     "execution_count": 21,
     "metadata": {},
     "output_type": "execute_result"
    }
   ],
   "source": [
    "ans"
   ]
  },
  {
   "cell_type": "code",
   "execution_count": 60,
   "metadata": {},
   "outputs": [],
   "source": [
    "nums = [1,1,1,2,2,3]\n",
    "k = 2\n",
    "freq = [[] for i in range(len(nums)+1)]\n",
    "count = {}\n",
    "\n",
    "for n in nums:\n",
    "    count[n] = 1 + count.get(n,0)\n",
    "for n,c in count.items():\n",
    "    freq[c].append(n)\n",
    "\n",
    "res= []\n",
    "\n",
    "for i in range(len(freq)-1,0,-1):\n",
    "    for n in freq[i]:\n",
    "        res.append(n)\n",
    "        if len(res) == k:\n",
    "            return res\n",
    "\n",
    "\n"
   ]
  },
  {
   "cell_type": "code",
   "execution_count": 61,
   "metadata": {},
   "outputs": [
    {
     "data": {
      "text/plain": [
       "{1: 3, 2: 2, 3: 1}"
      ]
     },
     "execution_count": 61,
     "metadata": {},
     "output_type": "execute_result"
    }
   ],
   "source": [
    "count"
   ]
  },
  {
   "cell_type": "code",
   "execution_count": 62,
   "metadata": {},
   "outputs": [
    {
     "data": {
      "text/plain": [
       "[[], [3], [2], [1], [], [], []]"
      ]
     },
     "execution_count": 62,
     "metadata": {},
     "output_type": "execute_result"
    }
   ],
   "source": [
    "freq"
   ]
  },
  {
   "cell_type": "code",
   "execution_count": 68,
   "metadata": {},
   "outputs": [],
   "source": [
    "nums = [1,2,3,4]\n",
    "\n",
    "res = [1] * len(nums)\n",
    "\n",
    "prefix = 1\n",
    "\n",
    "for i in range(len(nums)):\n",
    "    res[i] = prefix\n",
    "    prefix *= nums[i]\n",
    "     \n",
    "postfix = 1\n",
    "\n",
    "for i in range(len(nums)-1,-1,-1):\n",
    "    res[i] *= postfix\n",
    "    postfix *= nums[i]"
   ]
  },
  {
   "cell_type": "code",
   "execution_count": 69,
   "metadata": {},
   "outputs": [
    {
     "data": {
      "text/plain": [
       "[24, 12, 8, 6]"
      ]
     },
     "execution_count": 69,
     "metadata": {},
     "output_type": "execute_result"
    }
   ],
   "source": [
    "res\n"
   ]
  },
  {
   "cell_type": "code",
   "execution_count": 74,
   "metadata": {},
   "outputs": [
    {
     "name": "stdout",
     "output_type": "stream",
     "text": [
      "9\n"
     ]
    }
   ],
   "source": [
    "nums = [0,3,7,2,5,8,4,6,0,1]\n",
    "\n",
    "numset = set(nums)\n",
    "longest = 0\n",
    "for i in numset:\n",
    "    if i-1 not in numset:\n",
    "        length =1 \n",
    "        while (i+length) in numset:\n",
    "            length += 1\n",
    "            \n",
    "        longest = max(length,longest)\n",
    "    \n",
    "print (longest)\n",
    "    \n",
    "    "
   ]
  },
  {
   "cell_type": "code",
   "execution_count": 80,
   "metadata": {},
   "outputs": [
    {
     "data": {
      "text/plain": [
       "True"
      ]
     },
     "execution_count": 80,
     "metadata": {},
     "output_type": "execute_result"
    }
   ],
   "source": [
    "s = \"A man, a plan, a canal: Panama\"\n",
    "\n",
    "s[2].isalnum()"
   ]
  },
  {
   "cell_type": "code",
   "execution_count": 82,
   "metadata": {},
   "outputs": [
    {
     "name": "stdout",
     "output_type": "stream",
     "text": [
      "Original DataFrame:\n",
      "   A   B    C\n",
      "0  1  10  100\n",
      "1  2  20  200\n",
      "2  2  20  200\n",
      "3  4  40  400\n",
      "4  5  50  500\n",
      "5  5  50  500\n",
      "\n",
      "DataFrame after removing duplicates:\n",
      "   A   B    C\n",
      "0  1  10  100\n",
      "1  2  20  200\n",
      "3  4  40  400\n",
      "4  5  50  500\n",
      "\n",
      "DataFrame after removing duplicates based on columns 'A' and 'B':\n",
      "   A   B    C\n",
      "0  1  10  100\n",
      "1  2  20  200\n",
      "3  4  40  400\n",
      "4  5  50  500\n",
      "\n",
      "DataFrame after keeping the last occurrence of duplicates:\n",
      "   A   B    C\n",
      "0  1  10  100\n",
      "2  2  20  200\n",
      "3  4  40  400\n",
      "5  5  50  500\n",
      "\n",
      "DataFrame after removing all duplicates:\n",
      "   A   B    C\n",
      "0  1  10  100\n",
      "3  4  40  400\n"
     ]
    }
   ],
   "source": [
    "import pandas as pd\n",
    "\n",
    "# Sample DataFrame\n",
    "data = {\n",
    "    'A': [1, 2, 2, 4, 5, 5],\n",
    "    'B': [10, 20, 20, 40, 50, 50],\n",
    "    'C': [100, 200, 200, 400, 500, 500]\n",
    "}\n",
    "\n",
    "df = pd.DataFrame(data)\n",
    "\n",
    "print(\"Original DataFrame:\")\n",
    "print(df)\n",
    "\n",
    "# Removing duplicate rows\n",
    "df_no_duplicates = df.drop_duplicates()\n",
    "print(\"\\nDataFrame after removing duplicates:\")\n",
    "print(df_no_duplicates)\n",
    "\n",
    "# Removing duplicates based on columns 'A' and 'B'\n",
    "df_no_duplicates_subset = df.drop_duplicates(subset=['A', 'B'])\n",
    "print(\"\\nDataFrame after removing duplicates based on columns 'A' and 'B':\")\n",
    "print(df_no_duplicates_subset)\n",
    "\n",
    "# Keeping the last occurrence of each duplicate\n",
    "df_no_duplicates_last = df.drop_duplicates(keep='last')\n",
    "print(\"\\nDataFrame after keeping the last occurrence of duplicates:\")\n",
    "print(df_no_duplicates_last)\n",
    "\n",
    "# Removing all duplicates\n",
    "df_no_duplicates_none = df.drop_duplicates(keep=False)\n",
    "print(\"\\nDataFrame after removing all duplicates:\")\n",
    "print(df_no_duplicates_none)\n"
   ]
  },
  {
   "cell_type": "code",
   "execution_count": 83,
   "metadata": {},
   "outputs": [
    {
     "name": "stdout",
     "output_type": "stream",
     "text": [
      "Original DataFrame:\n",
      "     A     B      C\n",
      "0  1.0  10.0    NaN\n",
      "1  2.0   NaN  200.0\n",
      "2  NaN  30.0  300.0\n",
      "3  4.0  40.0  400.0\n",
      "4  5.0  50.0  500.0\n",
      "\n",
      "DataFrame after removing rows with any missing values:\n",
      "     A     B      C\n",
      "3  4.0  40.0  400.0\n",
      "4  5.0  50.0  500.0\n",
      "\n",
      "DataFrame after removing rows with missing values in columns 'A' and 'B':\n",
      "     A     B      C\n",
      "0  1.0  10.0    NaN\n",
      "3  4.0  40.0  400.0\n",
      "4  5.0  50.0  500.0\n",
      "\n",
      "DataFrame after removing rows that do not have at least 2 non-NA values:\n",
      "     A     B      C\n",
      "0  1.0  10.0    NaN\n",
      "1  2.0   NaN  200.0\n",
      "2  NaN  30.0  300.0\n",
      "3  4.0  40.0  400.0\n",
      "4  5.0  50.0  500.0\n"
     ]
    }
   ],
   "source": [
    "import pandas as pd\n",
    "\n",
    "# Sample DataFrame with missing values\n",
    "data = {\n",
    "    'A': [1, 2, None, 4, 5],\n",
    "    'B': [10, None, 30, 40, 50],\n",
    "    'C': [None, 200, 300, 400, 500]\n",
    "}\n",
    "\n",
    "df = pd.DataFrame(data)\n",
    "\n",
    "print(\"Original DataFrame:\")\n",
    "print(df)\n",
    "\n",
    "# Removing rows with any missing values\n",
    "df_no_missing = df.dropna()\n",
    "print(\"\\nDataFrame after removing rows with any missing values:\")\n",
    "print(df_no_missing)\n",
    "\n",
    "# Removing rows with missing values in columns 'A' and 'B'\n",
    "df_no_missing_subset = df.dropna(subset=['A', 'B'])\n",
    "print(\"\\nDataFrame after removing rows with missing values in columns 'A' and 'B':\")\n",
    "print(df_no_missing_subset)\n",
    "\n",
    "# Removing rows that do not have at least 2 non-NA values\n",
    "df_no_missing_thresh = df.dropna(thresh=2)\n",
    "print(\"\\nDataFrame after removing rows that do not have at least 2 non-NA values:\")\n",
    "print(df_no_missing_thresh)\n"
   ]
  },
  {
   "cell_type": "code",
   "execution_count": 84,
   "metadata": {},
   "outputs": [
    {
     "name": "stdout",
     "output_type": "stream",
     "text": [
      "True\n"
     ]
    }
   ],
   "source": [
    "import collections\n",
    "\n",
    "\n",
    "board = [[\"5\",\"3\",\".\",\".\",\"7\",\".\",\".\",\".\",\".\"]\n",
    ",[\"6\",\".\",\".\",\"1\",\"9\",\"5\",\".\",\".\",\".\"]\n",
    ",[\".\",\"9\",\"8\",\".\",\".\",\".\",\".\",\"6\",\".\"]\n",
    ",[\"8\",\".\",\".\",\".\",\"6\",\".\",\".\",\".\",\"3\"]\n",
    ",[\"4\",\".\",\".\",\"8\",\".\",\"3\",\".\",\".\",\"1\"]\n",
    ",[\"7\",\".\",\".\",\".\",\"2\",\".\",\".\",\".\",\"6\"]\n",
    ",[\".\",\"6\",\".\",\".\",\".\",\".\",\"2\",\"8\",\".\"]\n",
    ",[\".\",\".\",\".\",\"4\",\"1\",\"9\",\".\",\".\",\"5\"]\n",
    ",[\".\",\".\",\".\",\".\",\"8\",\".\",\".\",\"7\",\"9\"]]\n",
    "\n",
    "rows = collections.defaultdict(set)\n",
    "cols = collections.defaultdict(set)\n",
    "squares = collections.defaultdict(set) # key = (i/3,j/3)\n",
    "\n",
    "for i in range (9):\n",
    "    for j in range (9):\n",
    "        if board[i][j] == \".\":\n",
    "            continue\n",
    "        if (board[i][j] in rows[i] or\n",
    "            board[i][j] in cols[j] or\n",
    "            board[i][j] in squares[(i//3,j//3)]):\n",
    "            print('False')\n",
    "        rows[i].add(board[i][j])\n",
    "        cols[j].add(board[i][j])\n",
    "        squares[(i//3,j//3)].add(board[i][j])\n",
    "print('True')"
   ]
  },
  {
   "cell_type": "code",
   "execution_count": 85,
   "metadata": {},
   "outputs": [
    {
     "data": {
      "text/plain": [
       "defaultdict(set,\n",
       "            {(0, 0): {'3', '5', '6', '8', '9'},\n",
       "             (0, 1): {'1', '5', '7', '9'},\n",
       "             (0, 2): {'6'},\n",
       "             (1, 0): {'4', '7', '8'},\n",
       "             (1, 1): {'2', '3', '6', '8'},\n",
       "             (1, 2): {'1', '3', '6'},\n",
       "             (2, 0): {'6'},\n",
       "             (2, 2): {'2', '5', '7', '8', '9'},\n",
       "             (2, 1): {'1', '4', '8', '9'}})"
      ]
     },
     "execution_count": 85,
     "metadata": {},
     "output_type": "execute_result"
    }
   ],
   "source": [
    "squares"
   ]
  },
  {
   "cell_type": "code",
   "execution_count": 86,
   "metadata": {},
   "outputs": [
    {
     "data": {
      "text/plain": [
       "defaultdict(set,\n",
       "            {0: {'3', '5', '7'},\n",
       "             1: {'1', '5', '6', '9'},\n",
       "             2: {'6', '8', '9'},\n",
       "             3: {'3', '6', '8'},\n",
       "             4: {'1', '3', '4', '8'},\n",
       "             5: {'2', '6', '7'},\n",
       "             6: {'2', '6', '8'},\n",
       "             7: {'1', '4', '5', '9'},\n",
       "             8: {'7', '8', '9'}})"
      ]
     },
     "execution_count": 86,
     "metadata": {},
     "output_type": "execute_result"
    }
   ],
   "source": [
    "rows"
   ]
  },
  {
   "cell_type": "code",
   "execution_count": 88,
   "metadata": {},
   "outputs": [
    {
     "data": {
      "image/png": "[encoded data removed]",
      "text/plain": [
       "<Figure size 640x480 with 1 Axes>"
      ]
     },
     "metadata": {},
     "output_type": "display_data"
    },
    {
     "name": "stdout",
     "output_type": "stream",
     "text": [
      "ADF Statistic: 2.693142575409917\n",
      "p-value: 0.9990866264692593\n",
      "ADF Statistic (after differencing): 0.7463206240943359\n",
      "p-value (after differencing): 0.9907183616177563\n"
     ]
    },
    {
     "data": {
      "image/png": "[encoded data removed]",
      "text/plain": [
       "<Figure size 1600x400 with 2 Axes>"
      ]
     },
     "metadata": {},
     "output_type": "display_data"
    },
    {
     "name": "stderr",
     "output_type": "stream",
     "text": [
      "/Library/Frameworks/Python.framework/Versions/3.10/lib/python3.10/site-packages/statsmodels/tsa/base/tsa_model.py:473: ValueWarning: No frequency information was provided, so inferred frequency M will be used.\n",
      "  self._init_dates(dates, freq)\n",
      "/Library/Frameworks/Python.framework/Versions/3.10/lib/python3.10/site-packages/statsmodels/tsa/base/tsa_model.py:473: ValueWarning: No frequency information was provided, so inferred frequency M will be used.\n",
      "  self._init_dates(dates, freq)\n",
      "/Library/Frameworks/Python.framework/Versions/3.10/lib/python3.10/site-packages/statsmodels/tsa/base/tsa_model.py:473: ValueWarning: No frequency information was provided, so inferred frequency M will be used.\n",
      "  self._init_dates(dates, freq)\n"
     ]
    },
    {
     "name": "stdout",
     "output_type": "stream",
     "text": [
      "                               SARIMAX Results                                \n",
      "==============================================================================\n",
      "Dep. Variable:     Sales Increase (%)   No. Observations:                   24\n",
      "Model:                 ARIMA(1, 1, 1)   Log Likelihood                 -42.186\n",
      "Date:                Fri, 07 Jun 2024   AIC                             90.372\n",
      "Time:                        15:13:46   BIC                             93.778\n",
      "Sample:                    01-31-2020   HQIC                            91.228\n",
      "                         - 12-31-2021                                         \n",
      "Covariance Type:                  opg                                         \n",
      "==============================================================================\n",
      "                 coef    std err          z      P>|z|      [0.025      0.975]\n",
      "------------------------------------------------------------------------------\n",
      "ar.L1          0.6023      0.397      1.517      0.129      -0.176       1.381\n",
      "ma.L1          0.1870      0.528      0.354      0.723      -0.849       1.223\n",
      "sigma2         2.2256      0.965      2.307      0.021       0.335       4.116\n",
      "===================================================================================\n",
      "Ljung-Box (L1) (Q):                   0.00   Jarque-Bera (JB):                11.94\n",
      "Prob(Q):                              0.96   Prob(JB):                         0.00\n",
      "Heteroskedasticity (H):               0.55   Skew:                            -1.29\n",
      "Prob(H) (two-sided):                  0.41   Kurtosis:                         5.41\n",
      "===================================================================================\n",
      "\n",
      "Warnings:\n",
      "[1] Covariance matrix calculated using the outer product of gradients (complex-step).\n"
     ]
    },
    {
     "data": {
      "image/png": "[encoded data removed]",
      "text/plain": [
       "<Figure size 1000x600 with 1 Axes>"
      ]
     },
     "metadata": {},
     "output_type": "display_data"
    },
    {
     "name": "stdout",
     "output_type": "stream",
     "text": [
      "2022-01-31    34.327657\n",
      "2022-02-28    35.127355\n",
      "2022-03-31    35.609042\n",
      "2022-04-30    35.899180\n",
      "2022-05-31    36.073940\n",
      "2022-06-30    36.179205\n",
      "Freq: M, Name: predicted_mean, dtype: float64\n"
     ]
    }
   ],
   "source": [
    "import pandas as pd\n",
    "import numpy as np\n",
    "import matplotlib.pyplot as plt\n",
    "from statsmodels.tsa.stattools import adfuller\n",
    "from statsmodels.graphics.tsaplots import plot_acf, plot_pacf\n",
    "from statsmodels.tsa.arima.model import ARIMA\n",
    "\n",
    "# Step 1: Data Preparation\n",
    "data = {\n",
    "    'Month': pd.date_range(start='2020-01-01', periods=24, freq='M'),\n",
    "    'Sales Increase (%)': [10, 12, 15, 18, 20, 23, 21, 19, 17, 16, 18, 20,\n",
    "                           22, 24, 27, 29, 30, 28, 26, 25, 27, 29, 31, 33]\n",
    "}\n",
    "df = pd.DataFrame(data)\n",
    "df.set_index('Month', inplace=True)\n",
    "\n",
    "# Step 2: Data Exploration and Visualization\n",
    "df.plot()\n",
    "plt.title('Monthly Sales Increase (%)')\n",
    "plt.show()\n",
    "\n",
    "# Step 3: Stationarity Check\n",
    "result = adfuller(df['Sales Increase (%)'])\n",
    "print('ADF Statistic:', result[0])\n",
    "print('p-value:', result[1])\n",
    "\n",
    "# Differencing to make the series stationary if necessary\n",
    "df['Sales Increase Diff'] = df['Sales Increase (%)'].diff().dropna()\n",
    "\n",
    "# Check stationarity again if needed\n",
    "result = adfuller(df['Sales Increase Diff'].dropna())\n",
    "print('ADF Statistic (after differencing):', result[0])\n",
    "print('p-value (after differencing):', result[1])\n",
    "\n",
    "# Step 4: Model Identification\n",
    "fig, axes = plt.subplots(1, 2, figsize=(16, 4))\n",
    "plot_acf(df['Sales Increase Diff'].dropna(), lags=10, ax=axes[0])\n",
    "plot_pacf(df['Sales Increase Diff'].dropna(), lags=10, ax=axes[1])\n",
    "plt.show()\n",
    "\n",
    "# Step 5: Model Estimation\n",
    "model = ARIMA(df['Sales Increase (%)'], order=(1, 1, 1))\n",
    "model_fit = model.fit()\n",
    "\n",
    "# Step 6: Model Validation\n",
    "print(model_fit.summary())\n",
    "residuals = model_fit.resid\n",
    "plt.figure(figsize=(10, 6))\n",
    "plt.plot(residuals)\n",
    "plt.title('Residuals')\n",
    "plt.show()\n",
    "\n",
    "# Step 7: Forecasting\n",
    "forecast = model_fit.forecast(steps=6)  # Forecast the next 6 months\n",
    "print(forecast)\n"
   ]
  },
  {
   "cell_type": "code",
   "execution_count": 89,
   "metadata": {},
   "outputs": [
    {
     "data": {
      "text/html": [
       "<div>\n",
       "<style scoped>\n",
       "    .dataframe tbody tr th:only-of-type {\n",
       "        vertical-align: middle;\n",
       "    }\n",
       "\n",
       "    .dataframe tbody tr th {\n",
       "        vertical-align: top;\n",
       "    }\n",
       "\n",
       "    .dataframe thead th {\n",
       "        text-align: right;\n",
       "    }\n",
       "</style>\n",
       "<table border=\"1\" class=\"dataframe\">\n",
       "  <thead>\n",
       "    <tr style=\"text-align: right;\">\n",
       "      <th></th>\n",
       "      <th>Sales Increase (%)</th>\n",
       "      <th>Sales Increase Diff</th>\n",
       "    </tr>\n",
       "    <tr>\n",
       "      <th>Month</th>\n",
       "      <th></th>\n",
       "      <th></th>\n",
       "    </tr>\n",
       "  </thead>\n",
       "  <tbody>\n",
       "    <tr>\n",
       "      <th>2020-01-31</th>\n",
       "      <td>10</td>\n",
       "      <td>NaN</td>\n",
       "    </tr>\n",
       "    <tr>\n",
       "      <th>2020-02-29</th>\n",
       "      <td>12</td>\n",
       "      <td>2.0</td>\n",
       "    </tr>\n",
       "    <tr>\n",
       "      <th>2020-03-31</th>\n",
       "      <td>15</td>\n",
       "      <td>3.0</td>\n",
       "    </tr>\n",
       "    <tr>\n",
       "      <th>2020-04-30</th>\n",
       "      <td>18</td>\n",
       "      <td>3.0</td>\n",
       "    </tr>\n",
       "    <tr>\n",
       "      <th>2020-05-31</th>\n",
       "      <td>20</td>\n",
       "      <td>2.0</td>\n",
       "    </tr>\n",
       "    <tr>\n",
       "      <th>2020-06-30</th>\n",
       "      <td>23</td>\n",
       "      <td>3.0</td>\n",
       "    </tr>\n",
       "    <tr>\n",
       "      <th>2020-07-31</th>\n",
       "      <td>21</td>\n",
       "      <td>-2.0</td>\n",
       "    </tr>\n",
       "    <tr>\n",
       "      <th>2020-08-31</th>\n",
       "      <td>19</td>\n",
       "      <td>-2.0</td>\n",
       "    </tr>\n",
       "    <tr>\n",
       "      <th>2020-09-30</th>\n",
       "      <td>17</td>\n",
       "      <td>-2.0</td>\n",
       "    </tr>\n",
       "    <tr>\n",
       "      <th>2020-10-31</th>\n",
       "      <td>16</td>\n",
       "      <td>-1.0</td>\n",
       "    </tr>\n",
       "    <tr>\n",
       "      <th>2020-11-30</th>\n",
       "      <td>18</td>\n",
       "      <td>2.0</td>\n",
       "    </tr>\n",
       "    <tr>\n",
       "      <th>2020-12-31</th>\n",
       "      <td>20</td>\n",
       "      <td>2.0</td>\n",
       "    </tr>\n",
       "    <tr>\n",
       "      <th>2021-01-31</th>\n",
       "      <td>22</td>\n",
       "      <td>2.0</td>\n",
       "    </tr>\n",
       "    <tr>\n",
       "      <th>2021-02-28</th>\n",
       "      <td>24</td>\n",
       "      <td>2.0</td>\n",
       "    </tr>\n",
       "    <tr>\n",
       "      <th>2021-03-31</th>\n",
       "      <td>27</td>\n",
       "      <td>3.0</td>\n",
       "    </tr>\n",
       "    <tr>\n",
       "      <th>2021-04-30</th>\n",
       "      <td>29</td>\n",
       "      <td>2.0</td>\n",
       "    </tr>\n",
       "    <tr>\n",
       "      <th>2021-05-31</th>\n",
       "      <td>30</td>\n",
       "      <td>1.0</td>\n",
       "    </tr>\n",
       "    <tr>\n",
       "      <th>2021-06-30</th>\n",
       "      <td>28</td>\n",
       "      <td>-2.0</td>\n",
       "    </tr>\n",
       "    <tr>\n",
       "      <th>2021-07-31</th>\n",
       "      <td>26</td>\n",
       "      <td>-2.0</td>\n",
       "    </tr>\n",
       "    <tr>\n",
       "      <th>2021-08-31</th>\n",
       "      <td>25</td>\n",
       "      <td>-1.0</td>\n",
       "    </tr>\n",
       "    <tr>\n",
       "      <th>2021-09-30</th>\n",
       "      <td>27</td>\n",
       "      <td>2.0</td>\n",
       "    </tr>\n",
       "    <tr>\n",
       "      <th>2021-10-31</th>\n",
       "      <td>29</td>\n",
       "      <td>2.0</td>\n",
       "    </tr>\n",
       "    <tr>\n",
       "      <th>2021-11-30</th>\n",
       "      <td>31</td>\n",
       "      <td>2.0</td>\n",
       "    </tr>\n",
       "    <tr>\n",
       "      <th>2021-12-31</th>\n",
       "      <td>33</td>\n",
       "      <td>2.0</td>\n",
       "    </tr>\n",
       "  </tbody>\n",
       "</table>\n",
       "</div>"
      ],
      "text/plain": [
       "            Sales Increase (%)  Sales Increase Diff\n",
       "Month                                              \n",
       "2020-01-31                  10                  NaN\n",
       "2020-02-29                  12                  2.0\n",
       "2020-03-31                  15                  3.0\n",
       "2020-04-30                  18                  3.0\n",
       "2020-05-31                  20                  2.0\n",
       "2020-06-30                  23                  3.0\n",
       "2020-07-31                  21                 -2.0\n",
       "2020-08-31                  19                 -2.0\n",
       "2020-09-30                  17                 -2.0\n",
       "2020-10-31                  16                 -1.0\n",
       "2020-11-30                  18                  2.0\n",
       "2020-12-31                  20                  2.0\n",
       "2021-01-31                  22                  2.0\n",
       "2021-02-28                  24                  2.0\n",
       "2021-03-31                  27                  3.0\n",
       "2021-04-30                  29                  2.0\n",
       "2021-05-31                  30                  1.0\n",
       "2021-06-30                  28                 -2.0\n",
       "2021-07-31                  26                 -2.0\n",
       "2021-08-31                  25                 -1.0\n",
       "2021-09-30                  27                  2.0\n",
       "2021-10-31                  29                  2.0\n",
       "2021-11-30                  31                  2.0\n",
       "2021-12-31                  33                  2.0"
      ]
     },
     "execution_count": 89,
     "metadata": {},
     "output_type": "execute_result"
    }
   ],
   "source": [
    "df"
   ]
  },
  {
   "cell_type": "code",
   "execution_count": 90,
   "metadata": {},
   "outputs": [
    {
     "data": {
      "text/plain": [
       "<Axes: xlabel='Month'>"
      ]
     },
     "execution_count": 90,
     "metadata": {},
     "output_type": "execute_result"
    },
    {
     "data": {
      "image/png": "[encoded data removed]",
      "text/plain": [
       "<Figure size 640x480 with 1 Axes>"
      ]
     },
     "metadata": {},
     "output_type": "display_data"
    }
   ],
   "source": []
  },
  {
   "cell_type": "code",
   "execution_count": 91,
   "metadata": {},
   "outputs": [
    {
     "name": "stdout",
     "output_type": "stream",
     "text": [
      "Mean Squared Error: 11.50909690279093\n",
      "Predicted Sales Increase: 11.33%\n"
     ]
    }
   ],
   "source": [
    "import pandas as pd\n",
    "from sklearn.preprocessing import LabelEncoder, StandardScaler\n",
    "from sklearn.model_selection import train_test_split\n",
    "from sklearn.svm import SVR\n",
    "from sklearn.metrics import mean_squared_error\n",
    "\n",
    "# Step 1: Data Preparation\n",
    "data = {\n",
    "    'Budget': [5000, 7000, 6000, 8000, 5500],\n",
    "    'Audience Age': ['25-34', '18-24', '35-44', '25-34', '18-24'],\n",
    "    'Ad Type': ['Video', 'Social', 'Banner', 'Video', 'Social'],\n",
    "    'Duration': [30, 45, 25, 60, 30],\n",
    "    'Sales Increase (%)': [10, 15, 8, 20, 12]\n",
    "}\n",
    "df = pd.DataFrame(data)\n",
    "\n",
    "# Encode categorical variables\n",
    "label_encoders = {\n",
    "    'Audience Age': LabelEncoder(),\n",
    "    'Ad Type': LabelEncoder()\n",
    "}\n",
    "for column, encoder in label_encoders.items():\n",
    "    df[column] = encoder.fit_transform(df[column])\n",
    "\n",
    "# Normalize the data\n",
    "scaler = StandardScaler()\n",
    "X = df.drop('Sales Increase (%)', axis=1)\n",
    "y = df['Sales Increase (%)']\n",
    "X = scaler.fit_transform(X)\n",
    "\n",
    "# Step 2: Splitting the Data\n",
    "X_train, X_test, y_train, y_test = train_test_split(X, y, test_size=0.2, random_state=42)\n",
    "\n",
    "# Step 3: Model Training\n",
    "svr = SVR(kernel='rbf')\n",
    "svr.fit(X_train, y_train)\n",
    "\n",
    "# Step 4: Model Evaluation\n",
    "y_pred = svr.predict(X_test)\n",
    "mse = mean_squared_error(y_test, y_pred)\n",
    "print(f\"Mean Squared Error: {mse}\")\n",
    "\n",
    "# Step 5: Prediction\n",
    "new_campaign = {\n",
    "    'Budget': 7500,\n",
    "    'Audience Age': '25-34',\n",
    "    'Ad Type': 'Social',\n",
    "    'Duration': 40\n",
    "}\n",
    "new_campaign_df = pd.DataFrame([new_campaign])\n",
    "for column, encoder in label_encoders.items():\n",
    "    new_campaign_df[column] = encoder.transform(new_campaign_df[column])\n",
    "new_campaign_normalized = scaler.transform(new_campaign_df)\n",
    "\n",
    "predicted_sales_increase = svr.predict(new_campaign_normalized)\n",
    "print(f\"Predicted Sales Increase: {predicted_sales_increase[0]:.2f}%\")\n"
   ]
  },
  {
   "cell_type": "code",
   "execution_count": 95,
   "metadata": {},
   "outputs": [
    {
     "data": {
      "text/html": [
       "<div>\n",
       "<style scoped>\n",
       "    .dataframe tbody tr th:only-of-type {\n",
       "        vertical-align: middle;\n",
       "    }\n",
       "\n",
       "    .dataframe tbody tr th {\n",
       "        vertical-align: top;\n",
       "    }\n",
       "\n",
       "    .dataframe thead th {\n",
       "        text-align: right;\n",
       "    }\n",
       "</style>\n",
       "<table border=\"1\" class=\"dataframe\">\n",
       "  <thead>\n",
       "    <tr style=\"text-align: right;\">\n",
       "      <th></th>\n",
       "      <th>Budget</th>\n",
       "      <th>Audience Age</th>\n",
       "      <th>Ad Type</th>\n",
       "      <th>Duration</th>\n",
       "      <th>Sales Increase (%)</th>\n",
       "    </tr>\n",
       "  </thead>\n",
       "  <tbody>\n",
       "    <tr>\n",
       "      <th>0</th>\n",
       "      <td>5000</td>\n",
       "      <td>1</td>\n",
       "      <td>2</td>\n",
       "      <td>30</td>\n",
       "      <td>10</td>\n",
       "    </tr>\n",
       "    <tr>\n",
       "      <th>1</th>\n",
       "      <td>7000</td>\n",
       "      <td>0</td>\n",
       "      <td>1</td>\n",
       "      <td>45</td>\n",
       "      <td>15</td>\n",
       "    </tr>\n",
       "    <tr>\n",
       "      <th>2</th>\n",
       "      <td>6000</td>\n",
       "      <td>2</td>\n",
       "      <td>0</td>\n",
       "      <td>25</td>\n",
       "      <td>8</td>\n",
       "    </tr>\n",
       "    <tr>\n",
       "      <th>3</th>\n",
       "      <td>8000</td>\n",
       "      <td>1</td>\n",
       "      <td>2</td>\n",
       "      <td>60</td>\n",
       "      <td>20</td>\n",
       "    </tr>\n",
       "    <tr>\n",
       "      <th>4</th>\n",
       "      <td>5500</td>\n",
       "      <td>0</td>\n",
       "      <td>1</td>\n",
       "      <td>30</td>\n",
       "      <td>12</td>\n",
       "    </tr>\n",
       "  </tbody>\n",
       "</table>\n",
       "</div>"
      ],
      "text/plain": [
       "   Budget  Audience Age  Ad Type  Duration  Sales Increase (%)\n",
       "0    5000             1        2        30                  10\n",
       "1    7000             0        1        45                  15\n",
       "2    6000             2        0        25                   8\n",
       "3    8000             1        2        60                  20\n",
       "4    5500             0        1        30                  12"
      ]
     },
     "execution_count": 95,
     "metadata": {},
     "output_type": "execute_result"
    }
   ],
   "source": [
    "df"
   ]
  },
  {
   "cell_type": "markdown",
   "metadata": {},
   "source": [
    "# Recommandation system:"
   ]
  },
  {
   "cell_type": "code",
   "execution_count": 99,
   "metadata": {},
   "outputs": [
    {
     "name": "stdout",
     "output_type": "stream",
     "text": [
      "    User  Movie1  Movie2  Movie3  Movie4  Movie5\n",
      "0  User1     5.0       3     4.0     1.0     NaN\n",
      "1  User2     4.0       1     NaN     2.0     3.0\n",
      "2  User3     1.0       2     5.0     NaN     4.0\n",
      "3  User4     2.0       5     3.0     4.0     2.0\n",
      "4  User5     NaN       4     2.0     5.0     1.0\n"
     ]
    }
   ],
   "source": [
    "import pandas as pd\n",
    "import numpy as np\n",
    "\n",
    "# Sample data: user ratings for movies\n",
    "data = {\n",
    "    'User': ['User1', 'User2', 'User3', 'User4', 'User5'],\n",
    "    'Movie1': [5, 4, 1, 2, np.nan],\n",
    "    'Movie2': [3, 1, 2, 5, 4],\n",
    "    'Movie3': [4, np.nan, 5, 3, 2],\n",
    "    'Movie4': [1, 2, np.nan, 4, 5],\n",
    "    'Movie5': [np.nan, 3, 4, 2, 1]\n",
    "}\n",
    "\n",
    "df = pd.DataFrame(data)\n",
    "print(df)\n"
   ]
  },
  {
   "cell_type": "code",
   "execution_count": 100,
   "metadata": {},
   "outputs": [
    {
     "name": "stdout",
     "output_type": "stream",
     "text": [
      "     Movie1    Movie2  Movie3    Movie4  Movie5\n",
      "0  1.414214  0.000000     0.5 -1.414214     0.0\n",
      "1  0.707107 -1.414214     0.0 -0.707107     0.5\n",
      "2 -1.414214 -0.707107     1.5  0.000000     1.5\n",
      "3 -0.707107  1.414214    -0.5  0.707107    -0.5\n",
      "4  0.000000  0.707107    -1.5  1.414214    -1.5\n"
     ]
    },
    {
     "name": "stderr",
     "output_type": "stream",
     "text": [
      "/var/folders/w5/7276v8b14pj5_4lrc2r9xkvr0000gn/T/ipykernel_71885/1235106083.py:2: FutureWarning: Dropping of nuisance columns in DataFrame reductions (with 'numeric_only=None') is deprecated; in a future version this will raise TypeError.  Select only valid columns before calling the reduction.\n",
      "  df.fillna(df.mean(), inplace=True)\n"
     ]
    }
   ],
   "source": [
    "# Fill missing values with the average rating for each movie\n",
    "df.fillna(df.mean(), inplace=True)\n",
    "\n",
    "# Normalize the ratings\n",
    "from sklearn.preprocessing import StandardScaler\n",
    "\n",
    "scaler = StandardScaler()\n",
    "df_scaled = pd.DataFrame(scaler.fit_transform(df.drop('User', axis=1)), columns=df.columns[1:])\n",
    "print(df_scaled)\n"
   ]
  },
  {
   "cell_type": "code",
   "execution_count": 101,
   "metadata": {},
   "outputs": [
    {
     "data": {
      "image/png": "[encoded data removed]",
      "text/plain": [
       "<Figure size 640x480 with 1 Axes>"
      ]
     },
     "metadata": {},
     "output_type": "display_data"
    },
    {
     "name": "stdout",
     "output_type": "stream",
     "text": [
      "    User  Movie1  Movie2  Movie3  Movie4  Movie5  Cluster\n",
      "0  User1     5.0       3     4.0     1.0     2.5        2\n",
      "1  User2     4.0       1     3.5     2.0     3.0        0\n",
      "2  User3     1.0       2     5.0     3.0     4.0        0\n",
      "3  User4     2.0       5     3.0     4.0     2.0        1\n",
      "4  User5     3.0       4     2.0     5.0     1.0        1\n"
     ]
    }
   ],
   "source": [
    "from sklearn.cluster import KMeans\n",
    "import matplotlib.pyplot as plt\n",
    "\n",
    "# Determine the optimal number of clusters using the Elbow method\n",
    "inertia = []\n",
    "for n in range(1, 6):  # Adjusted the range to avoid exceeding the number of samples\n",
    "    kmeans = KMeans(n_clusters=n, random_state=42)\n",
    "    kmeans.fit(df_scaled)\n",
    "    inertia.append(kmeans.inertia_)\n",
    "\n",
    "plt.plot(range(1, 6), inertia, marker='o')\n",
    "plt.title('Elbow Method')\n",
    "plt.xlabel('Number of clusters')\n",
    "plt.ylabel('Inertia')\n",
    "plt.show()\n",
    "\n",
    "# Choose the optimal number of clusters (e.g., 3)\n",
    "kmeans = KMeans(n_clusters=3, random_state=42)\n",
    "df['Cluster'] = kmeans.fit_predict(df_scaled)\n",
    "print(df)\n"
   ]
  },
  {
   "cell_type": "code",
   "execution_count": 102,
   "metadata": {},
   "outputs": [
    {
     "name": "stdout",
     "output_type": "stream",
     "text": [
      "   Movie1  Movie2  Movie3  Movie4  Movie5\n",
      "0     2.5     1.5    4.25     2.5     3.5\n",
      "1     2.5     4.5    2.50     4.5     1.5\n",
      "2     5.0     3.0    4.00     1.0     2.5\n",
      "Recommended movies for User1: ['Movie1', 'Movie3']\n"
     ]
    }
   ],
   "source": [
    "# Calculate the average ratings for each cluster\n",
    "cluster_centers = scaler.inverse_transform(kmeans.cluster_centers_)\n",
    "cluster_df = pd.DataFrame(cluster_centers, columns=df.columns[1:-1])\n",
    "print(cluster_df)\n",
    "\n",
    "# Function to recommend movies to a user based on their cluster\n",
    "def recommend_movies(user_id, n_recommendations=2):\n",
    "    user_cluster = df.loc[df['User'] == user_id, 'Cluster'].values[0]\n",
    "    cluster_movies = cluster_df.loc[user_cluster].sort_values(ascending=False)\n",
    "    recommended_movies = cluster_movies.index[:n_recommendations].tolist()\n",
    "    return recommended_movies\n",
    "\n",
    "# Recommend movies for User1\n",
    "recommendations = recommend_movies('User1')\n",
    "print(f\"Recommended movies for User1: {recommendations}\")\n"
   ]
  },
  {
   "cell_type": "code",
   "execution_count": 1,
   "metadata": {},
   "outputs": [
    {
     "name": "stdout",
     "output_type": "stream",
     "text": [
      "11\n"
     ]
    }
   ],
   "source": [
    "\n",
    "\n"
   ]
  },
  {
   "cell_type": "code",
   "execution_count": 9,
   "metadata": {},
   "outputs": [
    {
     "name": "stdout",
     "output_type": "stream",
     "text": [
      "False\n"
     ]
    }
   ],
   "source": [
    "matrix = [[1,2,4,8],[10,11,12,13],[14,20,30,40]]\n",
    "target = 10\n",
    "for i in matrix[::-1]:\n",
    "    for j in i:\n",
    "        if j < target:\n",
    "            pass\n",
    "        elif j > target:\n",
    "            if j == target:\n",
    "                print(True)\n",
    "print(False)\n",
    "\n"
   ]
  },
  {
   "cell_type": "code",
   "execution_count": 10,
   "metadata": {},
   "outputs": [
    {
     "data": {
      "text/plain": [
       "3"
      ]
     },
     "execution_count": 10,
     "metadata": {},
     "output_type": "execute_result"
    }
   ],
   "source": [
    "len(matrix)"
   ]
  },
  {
   "cell_type": "code",
   "execution_count": 11,
   "metadata": {},
   "outputs": [
    {
     "data": {
      "text/plain": [
       "4"
      ]
     },
     "execution_count": 11,
     "metadata": {},
     "output_type": "execute_result"
    }
   ],
   "source": [
    "len(matrix[0])"
   ]
  },
  {
   "cell_type": "code",
   "execution_count": 12,
   "metadata": {},
   "outputs": [
    {
     "data": {
      "text/plain": [
       "(3, 2)"
      ]
     },
     "execution_count": 12,
     "metadata": {},
     "output_type": "execute_result"
    }
   ],
   "source": [
    "divmod(14,4)"
   ]
  },
  {
   "cell_type": "code",
   "execution_count": 14,
   "metadata": {},
   "outputs": [
    {
     "data": {
      "text/plain": [
       "[1, 3, 12, 0, 0]"
      ]
     },
     "execution_count": 14,
     "metadata": {},
     "output_type": "execute_result"
    }
   ],
   "source": [
    "nums = [0,1,0,3,12]\n",
    "l=0\n",
    "for r in range(len(nums)):\n",
    "            if nums[r]:\n",
    "                nums[l],nums[r]=nums[r],nums[l]\n",
    "                l+=1\n",
    "\n",
    "nums                \n"
   ]
  },
  {
   "cell_type": "code",
   "execution_count": 1,
   "metadata": {},
   "outputs": [],
   "source": [
    "if 0:\n",
    "    print('hello')"
   ]
  },
  {
   "cell_type": "code",
   "execution_count": 6,
   "metadata": {},
   "outputs": [
    {
     "name": "stdout",
     "output_type": "stream",
     "text": [
      "[0, 1]\n"
     ]
    }
   ],
   "source": [
    "from matplotlib.widgets import EllipseSelector\n",
    "\n",
    "\n",
    "nums = [2,7,11,15]\n",
    "target = 9\n",
    "\n",
    "prevmap = {}\n",
    "\n",
    "for i, v in enumerate(nums):\n",
    "    diff = target - v\n",
    "    if diff in prevmap:\n",
    "        print([prevmap[diff],i])\n",
    "    prevmap[v]=i\n",
    "    "
   ]
  },
  {
   "cell_type": "code",
   "execution_count": 7,
   "metadata": {},
   "outputs": [
    {
     "data": {
      "text/plain": [
       "{2: 0, 7: 1, 11: 2, 15: 3}"
      ]
     },
     "execution_count": 7,
     "metadata": {},
     "output_type": "execute_result"
    }
   ],
   "source": [
    "prevmap"
   ]
  },
  {
   "cell_type": "code",
   "execution_count": 9,
   "metadata": {},
   "outputs": [
    {
     "name": "stdout",
     "output_type": "stream",
     "text": [
      "dict_values([['eat', 'tea', 'ate'], ['tan', 'nat'], ['bat']])\n"
     ]
    }
   ],
   "source": [
    "from collections import defaultdict\n",
    "\n",
    "strs = [\"eat\",\"tea\",\"tan\",\"ate\",\"nat\",\"bat\"]\n",
    "\n",
    "ans = defaultdict(list) #mapping count to list of chars\n",
    "for i in strs:\n",
    "    count = [0] * 26\n",
    "    for j in i:\n",
    "        count[ord(j)-ord(\"a\")] += 1\n",
    "    ans[tuple(count)].append(i)\n",
    "\n",
    "print(ans.values())"
   ]
  },
  {
   "cell_type": "code",
   "execution_count": null,
   "metadata": {},
   "outputs": [],
   "source": [
    "input = [1,1,1,2,2,3]\n",
    "k = 2\n",
    "\n",
    "dic = {}\n",
    "\n",
    "for i,v in enumerate(input):\n",
    "    dic[v] = "
   ]
  }
 ],
 "metadata": {
  "kernelspec": {
   "display_name": "Python 3",
   "language": "python",
   "name": "python3"
  },
  "language_info": {
   "codemirror_mode": {
    "name": "ipython",
    "version": 3
   },
   "file_extension": ".py",
   "mimetype": "text/x-python",
   "name": "python",
   "nbconvert_exporter": "python",
   "pygments_lexer": "ipython3",
   "version": "3.10.1"
  }
 },
 "nbformat": 4,
 "nbformat_minor": 2
}
