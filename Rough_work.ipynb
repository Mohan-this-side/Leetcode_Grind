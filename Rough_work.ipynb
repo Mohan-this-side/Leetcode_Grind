{
 "cells": [
  {
   "cell_type": "markdown",
   "metadata": {},
   "source": [
    "When talking about complexity, there are normally three cases:\n",
    "\n",
    "1. Best case scenario\n",
    "2. Average case\n",
    "3. Worst case scenario"
   ]
  },
  {
   "cell_type": "code",
   "execution_count": 3,
   "metadata": {},
   "outputs": [
    {
     "name": "stdout",
     "output_type": "stream",
     "text": [
      "2\n",
      "3\n",
      "4\n",
      "5\n",
      "4\n",
      "5\n",
      "6\n",
      "6\n",
      "7\n",
      "8\n"
     ]
    }
   ],
   "source": [
    "arr = [1, 2, 3, 4]  # Example array, replace with your array values\n",
    "\n",
    "for i in range(len(arr)):\n",
    "    for j in range(i, len(arr)):\n",
    "        print(arr[i] + arr[j])\n"
   ]
  },
  {
   "cell_type": "code",
   "execution_count": 10,
   "metadata": {},
   "outputs": [
    {
     "data": {
      "text/plain": [
       "4"
      ]
     },
     "execution_count": 10,
     "metadata": {},
     "output_type": "execute_result"
    }
   ],
   "source": [
    "(arr[3])"
   ]
  },
  {
   "cell_type": "markdown",
   "metadata": {},
   "source": [
    "F \n",
    "n\n",
    "​\n",
    " =F \n",
    "n−1\n",
    "​\n",
    " +F \n",
    "n−2\n",
    "​\n",
    " \n",
    "\n"
   ]
  },
  {
   "cell_type": "code",
   "execution_count": 29,
   "metadata": {},
   "outputs": [],
   "source": [
    "A=\"abcdcba\" \n",
    "B=\"racecar\"\n",
    "C=\"abcdcbva\" \n",
    "\n",
    "\n",
    "def check_if_palindrome(s):\n",
    "    \n",
    "    left = 0\n",
    "    right =len(A)-1\n",
    "    \n",
    "    while left < right:\n",
    "        if s[left]!=s[right]:\n",
    "            return False\n",
    "        left += 1\n",
    "        right -= 1\n",
    "        \n",
    "    return True\n",
    "\n",
    "        "
   ]
  },
  {
   "cell_type": "code",
   "execution_count": 31,
   "metadata": {},
   "outputs": [
    {
     "data": {
      "text/plain": [
       "False"
      ]
     },
     "execution_count": 31,
     "metadata": {},
     "output_type": "execute_result"
    }
   ],
   "source": [
    "check_if_palindrome(C)"
   ]
  },
  {
   "cell_type": "markdown",
   "metadata": {},
   "source": [
    "Example 2: Given a sorted array of unique integers and a target integer, return true if there exists a pair of numbers that sum to target, false otherwise. This problem is similar to Two Sum. (In Two Sum, the input is not sorted).\n",
    "\n",
    "For example, given nums = [1, 2, 4, 6, 8, 9, 14, 15] and target = 13, return true because 4 + 9 = 13."
   ]
  },
  {
   "cell_type": "code",
   "execution_count": 42,
   "metadata": {},
   "outputs": [],
   "source": [
    "def ex2(a,b):\n",
    "    left= 0\n",
    "    right= len(a)-1\n",
    "    \n",
    "    while left < right:\n",
    "        if a[left]+a[right] == b:\n",
    "            return True\n",
    "        elif a[left]+a[right] < b:\n",
    "            left +=1\n",
    "        else:\n",
    "            right -=1\n",
    "            \n",
    "    return False"
   ]
  },
  {
   "cell_type": "code",
   "execution_count": 44,
   "metadata": {},
   "outputs": [
    {
     "data": {
      "text/plain": [
       "True"
      ]
     },
     "execution_count": 44,
     "metadata": {},
     "output_type": "execute_result"
    }
   ],
   "source": [
    "nums = [1, 2, 4, 6, 8, 9, 14, 15]\n",
    "target = 14\n",
    "ex2(nums,target)"
   ]
  },
  {
   "cell_type": "code",
   "execution_count": 45,
   "metadata": {},
   "outputs": [],
   "source": [
    "def check_for_target(nums, target):\n",
    "    left = 0\n",
    "    right = len(nums) - 1\n",
    "    while left < right:\n",
    "        # curr is the current sum\n",
    "        curr = nums[left] + nums[right]\n",
    "        if curr == target:\n",
    "            return True\n",
    "        if curr > target:\n",
    "            right -= 1\n",
    "        else:\n",
    "            left += 1\n",
    "    \n",
    "    return False"
   ]
  },
  {
   "cell_type": "code",
   "execution_count": 46,
   "metadata": {},
   "outputs": [
    {
     "data": {
      "text/plain": [
       "True"
      ]
     },
     "execution_count": 46,
     "metadata": {},
     "output_type": "execute_result"
    }
   ],
   "source": [
    "check_for_target(nums,target)"
   ]
  },
  {
   "cell_type": "markdown",
   "metadata": {},
   "source": [
    "Example 3: Given two sorted integer arrays arr1 and arr2, return a new array that combines both of them and is also sorted."
   ]
  },
  {
   "cell_type": "code",
   "execution_count": 57,
   "metadata": {},
   "outputs": [],
   "source": [
    "def ex3(a,b):\n",
    "    i = j = 0\n",
    "    \n",
    "    new_list = []\n",
    "    \n",
    "    while i < len(a) and j<len(b):\n",
    "        \n",
    "        if a[i] < b[i]:\n",
    "            new_list.append(a[i])\n",
    "            i+=1\n",
    "        else:\n",
    "            new_list.append(b[j])\n",
    "            j+=1\n",
    "    \n",
    "    while i < len(a):\n",
    "        new_list.append(a[i])\n",
    "        i += 1\n",
    "    \n",
    "    while j < len(b):\n",
    "        new_list.append(b[j])\n",
    "        j += 1\n",
    "        \n",
    "    return new_list"
   ]
  },
  {
   "cell_type": "code",
   "execution_count": 58,
   "metadata": {},
   "outputs": [
    {
     "data": {
      "text/plain": [
       "[1, 4, 3, 5, 6, 7, 20]"
      ]
     },
     "execution_count": 58,
     "metadata": {},
     "output_type": "execute_result"
    }
   ],
   "source": [
    "a = [1,4,7,20]\n",
    "b = [3,5,6]\n",
    "\n",
    "ex3(a,b)"
   ]
  },
  {
   "cell_type": "code",
   "execution_count": 69,
   "metadata": {},
   "outputs": [
    {
     "name": "stdout",
     "output_type": "stream",
     "text": [
      "Not done\n",
      "done\n",
      "Not done\n",
      "done\n",
      "done\n",
      "Not done\n"
     ]
    }
   ],
   "source": [
    "for x in range(2,5):\n",
    "    for n in range(2,x):\n",
    "        print(\"done\")\n",
    "    else:\n",
    "        print(\"Not done\")\n"
   ]
  },
  {
   "cell_type": "code",
   "execution_count": 70,
   "metadata": {},
   "outputs": [],
   "source": [
    "def http_error(status):\n",
    "    match status:\n",
    "        case 400:\n",
    "            return \"Bad request\"\n",
    "        case 404:\n",
    "            return \"Not found\"\n",
    "        case 418:\n",
    "            return \"I'm a teapot\"\n",
    "        case _:\n",
    "            return \"Something's wrong with the internet\""
   ]
  },
  {
   "cell_type": "code",
   "execution_count": 75,
   "metadata": {},
   "outputs": [
    {
     "data": {
      "text/plain": [
       "\"Something's wrong with the internet\""
      ]
     },
     "execution_count": 75,
     "metadata": {},
     "output_type": "execute_result"
    }
   ],
   "source": [
    "http_error(419)"
   ]
  },
  {
   "cell_type": "code",
   "execution_count": 74,
   "metadata": {},
   "outputs": [
    {
     "data": {
      "text/plain": [
       "\"I'm a teapot\""
      ]
     },
     "execution_count": 74,
     "metadata": {},
     "output_type": "execute_result"
    }
   ],
   "source": [
    "http_error(418)"
   ]
  },
  {
   "cell_type": "code",
   "execution_count": null,
   "metadata": {},
   "outputs": [],
   "source": []
  }
 ],
 "metadata": {
  "kernelspec": {
   "display_name": "Python 3",
   "language": "python",
   "name": "python3"
  },
  "language_info": {
   "codemirror_mode": {
    "name": "ipython",
    "version": 3
   },
   "file_extension": ".py",
   "mimetype": "text/x-python",
   "name": "python",
   "nbconvert_exporter": "python",
   "pygments_lexer": "ipython3",
   "version": "3.10.1"
  }
 },
 "nbformat": 4,
 "nbformat_minor": 2
}
