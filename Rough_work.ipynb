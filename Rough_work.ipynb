{
 "cells": [
  {
   "cell_type": "markdown",
   "metadata": {},
   "source": [
    "When talking about complexity, there are normally three cases:\n",
    "\n",
    "1. Best case scenario\n",
    "2. Average case\n",
    "3. Worst case scenario"
   ]
  },
  {
   "cell_type": "code",
   "execution_count": 3,
   "metadata": {},
   "outputs": [
    {
     "name": "stdout",
     "output_type": "stream",
     "text": [
      "2\n",
      "3\n",
      "4\n",
      "5\n",
      "4\n",
      "5\n",
      "6\n",
      "6\n",
      "7\n",
      "8\n"
     ]
    }
   ],
   "source": [
    "arr = [1, 2, 3, 4]  # Example array, replace with your array values\n",
    "\n",
    "for i in range(len(arr)):\n",
    "    for j in range(i, len(arr)):\n",
    "        print(arr[i] + arr[j])\n"
   ]
  },
  {
   "cell_type": "code",
   "execution_count": 10,
   "metadata": {},
   "outputs": [
    {
     "data": {
      "text/plain": [
       "4"
      ]
     },
     "execution_count": 10,
     "metadata": {},
     "output_type": "execute_result"
    }
   ],
   "source": [
    "(arr[3])"
   ]
  },
  {
   "cell_type": "markdown",
   "metadata": {},
   "source": [
    "F \n",
    "n\n",
    "​\n",
    " =F \n",
    "n−1\n",
    "​\n",
    " +F \n",
    "n−2\n",
    "​\n",
    " \n",
    "\n"
   ]
  },
  {
   "cell_type": "code",
   "execution_count": 29,
   "metadata": {},
   "outputs": [],
   "source": [
    "A=\"abcdcba\" \n",
    "B=\"racecar\"\n",
    "C=\"abcdcbva\" \n",
    "\n",
    "\n",
    "def check_if_palindrome(s):\n",
    "    \n",
    "    left = 0\n",
    "    right =len(A)-1\n",
    "    \n",
    "    while left < right:\n",
    "        if s[left]!=s[right]:\n",
    "            return False\n",
    "        left += 1\n",
    "        right -= 1\n",
    "        \n",
    "    return True\n",
    "\n",
    "        "
   ]
  },
  {
   "cell_type": "code",
   "execution_count": 31,
   "metadata": {},
   "outputs": [
    {
     "data": {
      "text/plain": [
       "False"
      ]
     },
     "execution_count": 31,
     "metadata": {},
     "output_type": "execute_result"
    }
   ],
   "source": [
    "check_if_palindrome(C)"
   ]
  },
  {
   "cell_type": "markdown",
   "metadata": {},
   "source": [
    "Example 2: Given a sorted array of unique integers and a target integer, return true if there exists a pair of numbers that sum to target, false otherwise. This problem is similar to Two Sum. (In Two Sum, the input is not sorted).\n",
    "\n",
    "For example, given nums = [1, 2, 4, 6, 8, 9, 14, 15] and target = 13, return true because 4 + 9 = 13."
   ]
  },
  {
   "cell_type": "code",
   "execution_count": 42,
   "metadata": {},
   "outputs": [],
   "source": [
    "def ex2(a,b):\n",
    "    left= 0\n",
    "    right= len(a)-1\n",
    "    \n",
    "    while left < right:\n",
    "        if a[left]+a[right] == b:\n",
    "            return True\n",
    "        elif a[left]+a[right] < b:\n",
    "            left +=1\n",
    "        else:\n",
    "            right -=1\n",
    "            \n",
    "    return False"
   ]
  },
  {
   "cell_type": "code",
   "execution_count": 44,
   "metadata": {},
   "outputs": [
    {
     "data": {
      "text/plain": [
       "True"
      ]
     },
     "execution_count": 44,
     "metadata": {},
     "output_type": "execute_result"
    }
   ],
   "source": [
    "nums = [1, 2, 4, 6, 8, 9, 14, 15]\n",
    "target = 14\n",
    "ex2(nums,target)"
   ]
  },
  {
   "cell_type": "code",
   "execution_count": 45,
   "metadata": {},
   "outputs": [],
   "source": [
    "def check_for_target(nums, target):\n",
    "    left = 0\n",
    "    right = len(nums) - 1\n",
    "    while left < right:\n",
    "        # curr is the current sum\n",
    "        curr = nums[left] + nums[right]\n",
    "        if curr == target:\n",
    "            return True\n",
    "        if curr > target:\n",
    "            right -= 1\n",
    "        else:\n",
    "            left += 1\n",
    "    \n",
    "    return False"
   ]
  },
  {
   "cell_type": "code",
   "execution_count": 46,
   "metadata": {},
   "outputs": [
    {
     "data": {
      "text/plain": [
       "True"
      ]
     },
     "execution_count": 46,
     "metadata": {},
     "output_type": "execute_result"
    }
   ],
   "source": [
    "check_for_target(nums,target)"
   ]
  },
  {
   "cell_type": "markdown",
   "metadata": {},
   "source": [
    "Example 3: Given two sorted integer arrays arr1 and arr2, return a new array that combines both of them and is also sorted."
   ]
  },
  {
   "cell_type": "code",
   "execution_count": 57,
   "metadata": {},
   "outputs": [],
   "source": [
    "def ex3(a,b):\n",
    "    i = j = 0\n",
    "    \n",
    "    new_list = []\n",
    "    \n",
    "    while i < len(a) and j<len(b):\n",
    "        \n",
    "        if a[i] < b[i]:\n",
    "            new_list.append(a[i])\n",
    "            i+=1\n",
    "        else:\n",
    "            new_list.append(b[j])\n",
    "            j+=1\n",
    "    \n",
    "    while i < len(a):\n",
    "        new_list.append(a[i])\n",
    "        i += 1\n",
    "    \n",
    "    while j < len(b):\n",
    "        new_list.append(b[j])\n",
    "        j += 1\n",
    "        \n",
    "    return new_list"
   ]
  },
  {
   "cell_type": "code",
   "execution_count": 58,
   "metadata": {},
   "outputs": [
    {
     "data": {
      "text/plain": [
       "[1, 4, 3, 5, 6, 7, 20]"
      ]
     },
     "execution_count": 58,
     "metadata": {},
     "output_type": "execute_result"
    }
   ],
   "source": [
    "a = [1,4,7,20]\n",
    "b = [3,5,6]\n",
    "\n",
    "ex3(a,b)"
   ]
  },
  {
   "cell_type": "code",
   "execution_count": 69,
   "metadata": {},
   "outputs": [
    {
     "name": "stdout",
     "output_type": "stream",
     "text": [
      "Not done\n",
      "done\n",
      "Not done\n",
      "done\n",
      "done\n",
      "Not done\n"
     ]
    }
   ],
   "source": [
    "for x in range(2,5):\n",
    "    for n in range(2,x):\n",
    "        print(\"done\")\n",
    "    else:\n",
    "        print(\"Not done\")\n"
   ]
  },
  {
   "cell_type": "code",
   "execution_count": 70,
   "metadata": {},
   "outputs": [],
   "source": [
    "def http_error(status):\n",
    "    match status:\n",
    "        case 400:\n",
    "            return \"Bad request\"\n",
    "        case 404:\n",
    "            return \"Not found\"\n",
    "        case 418:\n",
    "            return \"I'm a teapot\"\n",
    "        case _:\n",
    "            return \"Something's wrong with the internet\""
   ]
  },
  {
   "cell_type": "code",
   "execution_count": 75,
   "metadata": {},
   "outputs": [
    {
     "data": {
      "text/plain": [
       "\"Something's wrong with the internet\""
      ]
     },
     "execution_count": 75,
     "metadata": {},
     "output_type": "execute_result"
    }
   ],
   "source": [
    "http_error(419)"
   ]
  },
  {
   "cell_type": "code",
   "execution_count": 74,
   "metadata": {},
   "outputs": [
    {
     "data": {
      "text/plain": [
       "\"I'm a teapot\""
      ]
     },
     "execution_count": 74,
     "metadata": {},
     "output_type": "execute_result"
    }
   ],
   "source": [
    "http_error(418)"
   ]
  },
  {
   "cell_type": "markdown",
   "metadata": {},
   "source": [
    "0 1 1 2 3 5 8 13 21 34 55 89 144 233 377 610"
   ]
  },
  {
   "cell_type": "code",
   "execution_count": 80,
   "metadata": {},
   "outputs": [],
   "source": [
    "def feb(n):\n",
    "    a = 0\n",
    "    b = 1\n",
    "    while (a<n):\n",
    "        print(a,end=' ')\n",
    "        a,b = b, a+b\n",
    "    print()\n",
    "    \n",
    "    "
   ]
  },
  {
   "cell_type": "code",
   "execution_count": 87,
   "metadata": {},
   "outputs": [
    {
     "name": "stdout",
     "output_type": "stream",
     "text": [
      "0 1 1 2 3 5 8 13 21 34 55 89 144 \n"
     ]
    }
   ],
   "source": [
    "feb(146)\n"
   ]
  },
  {
   "cell_type": "markdown",
   "metadata": {},
   "source": [
    "Example 1: Given an array of positive integers nums and an integer k, find the length of the longest subarray whose sum is less than or equal to k. This is the problem we have been talking about above. We will now formally solve it.\n",
    "\n",
    "nums = [3, 1, 2, 7, 4, 2, 1, 1, 5] and k = 8."
   ]
  },
  {
   "cell_type": "code",
   "execution_count": null,
   "metadata": {},
   "outputs": [],
   "source": []
  },
  {
   "cell_type": "code",
   "execution_count": 95,
   "metadata": {},
   "outputs": [
    {
     "ename": "IndentationError",
     "evalue": "expected an indented block after function definition on line 4 (1428849018.py, line 5)",
     "output_type": "error",
     "traceback": [
      "\u001b[0;36m  Cell \u001b[0;32mIn[95], line 5\u001b[0;36m\u001b[0m\n\u001b[0;31m    l = 0\u001b[0m\n\u001b[0m    ^\u001b[0m\n\u001b[0;31mIndentationError\u001b[0m\u001b[0;31m:\u001b[0m expected an indented block after function definition on line 4\n"
     ]
    }
   ],
   "source": [
    "    \"\"\"define l r ans, for loop of right,maint curr, while curr<k-left++, return max(ans,r-l+1) \n",
    "    \"\"\"\n",
    "\n",
    "def logsubarray(nums,k):\n",
    "    l = 0\n",
    "    r = 0\n",
    "    ans = 0\n",
    "    \n",
    "    for r in range(0,len(nums)):\n",
    "        curr = nums[nums[r]]\n",
    "        \n",
    "        while curr > k:\n",
    "            curr -= nums[l]\n",
    "            l += 1\n",
    "            \n",
    "        ans= max(ans,r-l+1)\n",
    "        \n",
    "    return ans\n",
    "             "
   ]
  },
  {
   "cell_type": "code",
   "execution_count": 107,
   "metadata": {},
   "outputs": [],
   "source": [
    "def logsubarray(nums,k):\n",
    "    l ,r = 0,0\n",
    "    ans = 0\n",
    "    curr = 0\n",
    "    \n",
    "    for r in range(len(nums)):\n",
    "        curr += nums[r]\n",
    "        \n",
    "        while curr > k:\n",
    "            curr -= nums[l]\n",
    "            l += 1\n",
    "            \n",
    "        ans= max(ans,r-l+1)\n",
    "        \n",
    "    return ans"
   ]
  },
  {
   "cell_type": "code",
   "execution_count": 108,
   "metadata": {},
   "outputs": [
    {
     "data": {
      "text/plain": [
       "4"
      ]
     },
     "execution_count": 108,
     "metadata": {},
     "output_type": "execute_result"
    }
   ],
   "source": [
    "nums = [3, 1, 2, 7, 4, 2, 1, 1, 5] \n",
    "k = 8.\n",
    "logsubarray(nums,k)"
   ]
  },
  {
   "cell_type": "markdown",
   "metadata": {},
   "source": [
    "Example 2: You are given a binary string s (a string containing only \"0\" and \"1\"). You may choose up to one \"0\" and flip it to a \"1\". What is the length of the longest substring achievable that contains only \"1\"?\n",
    "\n",
    "For example, given s = \"1101100111\", the answer is 5. If you perform the flip at index 2, the string becomes 1111100111."
   ]
  },
  {
   "cell_type": "markdown",
   "metadata": {},
   "source": [
    "1. l,r,curr,ans\n",
    "2. for r \n",
    "3. curr = count of 0\n",
    "4. while curr< 2\n",
    "5. ans = max(ans,r-l+1)\n",
    "6. "
   ]
  },
  {
   "cell_type": "code",
   "execution_count": 132,
   "metadata": {},
   "outputs": [],
   "source": [
    "def maxiones(s):\n",
    "    l,r,curr,ans=0,0,0,0\n",
    "    \n",
    "    for r in range(len(s)):\n",
    "        if s[r]==\"0\":\n",
    "            curr += 1\n",
    "            \n",
    "        while curr>1:\n",
    "            if s[l] == \"0\":\n",
    "                curr -= 1\n",
    "            l +=1\n",
    "             \n",
    "            \n",
    "        ans = max(ans,r-l+1)\n",
    "        \n",
    "    return ans            \n",
    "    "
   ]
  },
  {
   "cell_type": "code",
   "execution_count": 133,
   "metadata": {},
   "outputs": [
    {
     "data": {
      "text/plain": [
       "5"
      ]
     },
     "execution_count": 133,
     "metadata": {},
     "output_type": "execute_result"
    }
   ],
   "source": [
    "s = \"1101100111\"\n",
    "maxiones(s)"
   ]
  },
  {
   "cell_type": "markdown",
   "metadata": {},
   "source": [
    "Example 1: Given an integer array nums, an array queries where queries[i] = [x, y] and an integer limit, return a boolean array that represents the answer to each query. A query is true if the sum of the subarray from x to y is less than limit, or false otherwise.\n",
    "\n",
    "For example, given nums = [1, 6, 3, 2, 7, 2], queries = [[0, 3], [2, 5], [2, 4]], and limit = 13, the answer is [true, false, true]. For each query, the subarray sums are [12, 14, 12]."
   ]
  },
  {
   "cell_type": "code",
   "execution_count": 155,
   "metadata": {},
   "outputs": [],
   "source": [
    "def ex1(nums,queries,limit):\n",
    "    \n",
    "    ans = []\n",
    "    presum = []\n",
    "    presum.append(nums[0])\n",
    "    \n",
    "    for i in range(1,len(nums)):\n",
    "        presum.append(nums[i]+presum[len(presum)-1])\n",
    "        \n",
    "    print(presum)\n",
    "    for i in queries:\n",
    "        if presum[i[1]]-presum[i[0]-1] < limit:\n",
    "            ans.append(True)\n",
    "        else:\n",
    "            ans.append(False)\n",
    "            \n",
    "    return ans"
   ]
  },
  {
   "cell_type": "code",
   "execution_count": 1,
   "metadata": {},
   "outputs": [
    {
     "ename": "NameError",
     "evalue": "name 'ex1' is not defined",
     "output_type": "error",
     "traceback": [
      "\u001b[0;31m---------------------------------------------------------------------------\u001b[0m",
      "\u001b[0;31mNameError\u001b[0m                                 Traceback (most recent call last)",
      "Cell \u001b[0;32mIn[1], line 4\u001b[0m\n\u001b[1;32m      2\u001b[0m queries \u001b[38;5;241m=\u001b[39m [[\u001b[38;5;241m0\u001b[39m, \u001b[38;5;241m3\u001b[39m], [\u001b[38;5;241m2\u001b[39m, \u001b[38;5;241m5\u001b[39m], [\u001b[38;5;241m2\u001b[39m, \u001b[38;5;241m4\u001b[39m]]\n\u001b[1;32m      3\u001b[0m limit \u001b[38;5;241m=\u001b[39m \u001b[38;5;241m13\u001b[39m\n\u001b[0;32m----> 4\u001b[0m \u001b[43mex1\u001b[49m(nums,queries,limit)\n",
      "\u001b[0;31mNameError\u001b[0m: name 'ex1' is not defined"
     ]
    }
   ],
   "source": [
    "nums = [1, 6, 3, 2, 7, 2]\n",
    "queries = [[0, 3], [2, 5], [2, 4]]\n",
    "limit = 13\n",
    "ex1(nums,queries,limit)\n",
    "#hello"
   ]
  },
  {
   "cell_type": "code",
   "execution_count": 2,
   "metadata": {},
   "outputs": [
    {
     "name": "stdout",
     "output_type": "stream",
     "text": [
      "s'teL ekat edoCteeL tsetnoc\n"
     ]
    }
   ],
   "source": [
    "s = \"Let's take LeetCode contest\"\n",
    "s = list(s)\n",
    "l=0\n",
    "\n",
    "for r in range(len(s)):\n",
    "    if s[r]==\" \" or r ==len(s)-1:\n",
    "        temp_l, temp_r= l, r-1\n",
    "        if r == len(s)-1:\n",
    "            temp_r = r\n",
    "        while temp_l<temp_r:\n",
    "            s[temp_l],s[temp_r] = s[temp_r],s[temp_l]\n",
    "            temp_l += 1\n",
    "            temp_r -= 1\n",
    "        l = r + 1\n",
    "\n",
    "print( \"\".join(s))"
   ]
  },
  {
   "cell_type": "code",
   "execution_count": 3,
   "metadata": {},
   "outputs": [
    {
     "name": "stdout",
     "output_type": "stream",
     "text": [
      "[1, 6, 3, 2, 7, 0]\n"
     ]
    }
   ],
   "source": [
    "s =[0,1,0,3,12]\n",
    "\n",
    "\n",
    "N = [0]*len(nums)\n",
    "i = 0\n",
    "j = 0\n",
    "\n",
    "for i in range(len(s)):\n",
    "    if s[i] != 0:\n",
    "        N[j] = nums[i]\n",
    "        j+= 1\n",
    "    \n",
    "\n",
    "print( N)"
   ]
  },
  {
   "cell_type": "code",
   "execution_count": null,
   "metadata": {},
   "outputs": [],
   "source": []
  }
 ],
 "metadata": {
  "kernelspec": {
   "display_name": "Python 3",
   "language": "python",
   "name": "python3"
  },
  "language_info": {
   "codemirror_mode": {
    "name": "ipython",
    "version": 3
   },
   "file_extension": ".py",
   "mimetype": "text/x-python",
   "name": "python",
   "nbconvert_exporter": "python",
   "pygments_lexer": "ipython3",
   "version": "3.10.1"
  }
 },
 "nbformat": 4,
 "nbformat_minor": 2
}
